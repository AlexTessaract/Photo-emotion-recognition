import numpy as np 
import pandas as pd 
import cv2
df = pd.read_csv('../input/facial-expression/fer2013.csv')
df.head()
emotion	pixels	Usage
0	0	70 80 82 72 58 58 60 63 54 58 60 48 89 115 121...	Training
1	0	151 150 147 155 148 133 111 140 170 174 182 15...	Training
2	2	231 212 156 164 174 138 161 173 182 200 106 38...	Training
3	4	24 32 36 30 32 23 19 20 30 41 21 22 32 34 21 1...	Training
4	6	4 0 0 0 0 0 0 0 0 0 0 0 3 15 23 28 48 50 58 84...	Training
len(df.iloc[0]['pixels'].split())
# 48 * 48
2304
label_map = ['Anger', 'Neutral', 'Fear', 'Happy', 'Sad', 'Surprise']
import matplotlib.pyplot as plt
img = df.iloc[0]['pixels'].split()
img = [int(i) for i in img]
type(img[0])
int
len(img)
2304
img = np.array(img)
img = img.reshape(48,48)
img.shape
(48, 48)
plt.imshow(img, cmap='gray')
plt.xlabel(df.iloc[0]['emotion'])
Text(0.5, 0, '0')

X = []
y = []
def getData(path):
    anger = 0
    fear = 0
    sad = 0
    happy = 0
    surprise = 0
    neutral = 0
    df = pd.read_csv(path)
    
    X = []
    y = []    
    
    for i in range(len(df)):
        if df.iloc[i]['emotion'] != 1:
            if df.iloc[i]['emotion'] == 0:
                if anger <= 4000:            
                    y.append(df.iloc[i]['emotion'])
                    im = df.iloc[i]['pixels']
                    im = [int(x) for x in im.split()]
                    X.append(im)
                    anger += 1
                else:
                    pass
                
            if df.iloc[i]['emotion'] == 2:
                if fear <= 4000:            
                    y.append(df.iloc[i]['emotion'])
                    im = df.iloc[i]['pixels']
                    im = [int(x) for x in im.split()]
                    X.append(im)
                    fear += 1
                else:
                    pass
                
            if df.iloc[i]['emotion'] == 3:
                if happy <= 4000:            
                    y.append(df.iloc[i]['emotion'])
                    im = df.iloc[i]['pixels']
                    im = [int(x) for x in im.split()]
                    X.append(im)
                    happy += 1
                else:
                    pass
                
            if df.iloc[i]['emotion'] == 4:
                if sad <= 4000:            
                    y.append(df.iloc[i]['emotion'])
                    im = df.iloc[i]['pixels']
                    im = [int(x) for x in im.split()]
                    X.append(im)
                    sad += 1
                else:
                    pass
                
            if df.iloc[i]['emotion'] == 5:
                if surprise <= 4000:            
                    y.append(df.iloc[i]['emotion'])
                    im = df.iloc[i]['pixels']
                    im = [int(x) for x in im.split()]
                    X.append(im)
                    surprise += 1
                else:
                    pass
                
            if df.iloc[i]['emotion'] == 6:
                if neutral <= 4000:            
                    y.append(df.iloc[i]['emotion'])
                    im = df.iloc[i]['pixels']
                    im = [int(x) for x in im.split()]
                    X.append(im)
                    neutral += 1
                else:
                    pass

            
            
    return X, y  
    
X, y = getData('../input/facial-expression/fer2013.csv')
np.unique(y, return_counts=True)
(array([0, 2, 3, 4, 5, 6]), array([4001, 4001, 4001, 4001, 4001, 4001]))
X = np.array(X)/255.0
y = np.array(y)
X.shape, y.shape
((24006, 2304), (24006,))
y_o = []
for i in y:
    if i != 6:
        y_o.append(i)
        
    else:
        y_o.append(1)
np.unique(y_o, return_counts=True)
(array([0, 1, 2, 3, 4, 5]), array([4001, 4001, 4001, 4001, 4001, 4001]))
for i in range(5):
    r = np.random.randint((1), 24000, 1)[0]
    plt.figure()
    plt.imshow(X[r].reshape(48,48), cmap='gray')
    plt.xlabel(label_map[y_o[r]])





X = X.reshape(len(X), 48, 48, 1)
# no_of_images, height, width, coloar_map
X.shape
(24006, 48, 48, 1)
from keras.utils import to_categorical
y_new = to_categorical(y_o, num_classes=6)
len(y_o), y_new.shape
(24006, (24006, 6))
y_o[150], y_new[150]
(0, array([1., 0., 0., 0., 0., 0.], dtype=float32))
from keras.models import Sequential
from keras.layers import Dense , Activation , Dropout ,Flatten
from keras.layers.convolutional import Conv2D
from keras.layers.convolutional import MaxPooling2D
from keras.metrics import categorical_accuracy
from keras.models import model_from_json
from keras.callbacks import ModelCheckpoint
from keras.optimizers import *
from keras.layers.normalization import BatchNormalization
model = Sequential()


input_shape = (48,48,1)


model.add(Conv2D(64, (5, 5), input_shape=input_shape,activation='relu', padding='same'))
model.add(Conv2D(64, (5, 5), padding='same'))
model.add(BatchNormalization())
model.add(Activation('relu'))
model.add(MaxPooling2D(pool_size=(2, 2)))


model.add(Conv2D(128, (5, 5),activation='relu',padding='same'))
model.add(Conv2D(128, (5, 5),padding='same'))
model.add(BatchNormalization())
model.add(Activation('relu'))
model.add(MaxPooling2D(pool_size=(2, 2)))

model.add(Conv2D(256, (3, 3),activation='relu',padding='same'))
model.add(Conv2D(256, (3, 3),activation='relu',padding='same'))
model.add(BatchNormalization())
model.add(MaxPooling2D(pool_size=(2, 2)))

## (15, 15) --->  30
model.add(Flatten())
model.add(Dense(6, activation='softmax'))

model.compile(loss='categorical_crossentropy', metrics=['accuracy'],optimizer='adam')
model.fit(X, y_new, epochs=22, batch_size=64, shuffle=True, validation_split=0.2)
Epoch 1/22
301/301 [==============================] - 7s 25ms/step - loss: 2.1339 - accuracy: 0.2381 - val_loss: 3.1206 - val_accuracy: 0.1020
Epoch 2/22
301/301 [==============================] - 7s 23ms/step - loss: 1.6824 - accuracy: 0.3369 - val_loss: 1.6650 - val_accuracy: 0.3609
Epoch 3/22
301/301 [==============================] - 7s 23ms/step - loss: 1.5192 - accuracy: 0.3979 - val_loss: 1.8997 - val_accuracy: 0.3463
Epoch 4/22
301/301 [==============================] - 7s 22ms/step - loss: 1.4142 - accuracy: 0.4503 - val_loss: 1.4595 - val_accuracy: 0.4500
Epoch 5/22
301/301 [==============================] - 7s 23ms/step - loss: 1.3192 - accuracy: 0.4852 - val_loss: 1.5445 - val_accuracy: 0.4227
Epoch 6/22
301/301 [==============================] - 7s 23ms/step - loss: 1.2441 - accuracy: 0.5169 - val_loss: 1.6968 - val_accuracy: 0.4348
Epoch 7/22
301/301 [==============================] - 7s 22ms/step - loss: 1.1723 - accuracy: 0.5492 - val_loss: 1.5228 - val_accuracy: 0.4459
Epoch 8/22
301/301 [==============================] - 7s 23ms/step - loss: 1.0888 - accuracy: 0.5826 - val_loss: 1.2737 - val_accuracy: 0.5367
Epoch 9/22
301/301 [==============================] - 7s 23ms/step - loss: 1.0244 - accuracy: 0.6114 - val_loss: 1.4561 - val_accuracy: 0.5029
Epoch 10/22
301/301 [==============================] - 7s 24ms/step - loss: 0.9482 - accuracy: 0.6415 - val_loss: 1.2777 - val_accuracy: 0.5152
Epoch 11/22
301/301 [==============================] - 7s 23ms/step - loss: 0.8863 - accuracy: 0.6697 - val_loss: 1.4853 - val_accuracy: 0.5048
Epoch 12/22
301/301 [==============================] - 7s 23ms/step - loss: 0.7865 - accuracy: 0.7076 - val_loss: 1.4641 - val_accuracy: 0.5214
Epoch 13/22
301/301 [==============================] - 7s 23ms/step - loss: 0.6993 - accuracy: 0.7412 - val_loss: 1.4132 - val_accuracy: 0.5283
Epoch 14/22
301/301 [==============================] - 7s 23ms/step - loss: 0.5548 - accuracy: 0.7974 - val_loss: 1.5449 - val_accuracy: 0.5381
Epoch 15/22
301/301 [==============================] - 7s 22ms/step - loss: 0.4624 - accuracy: 0.8326 - val_loss: 4.1017 - val_accuracy: 0.4067
Epoch 16/22
301/301 [==============================] - 7s 23ms/step - loss: 0.3506 - accuracy: 0.8738 - val_loss: 2.1009 - val_accuracy: 0.5171
Epoch 17/22
301/301 [==============================] - 7s 22ms/step - loss: 0.2411 - accuracy: 0.9177 - val_loss: 2.0233 - val_accuracy: 0.5192
Epoch 18/22
301/301 [==============================] - 7s 25ms/step - loss: 0.2337 - accuracy: 0.9218 - val_loss: 2.6710 - val_accuracy: 0.4779
Epoch 19/22
301/301 [==============================] - 7s 23ms/step - loss: 0.2082 - accuracy: 0.9319 - val_loss: 1.9767 - val_accuracy: 0.5762
Epoch 20/22
301/301 [==============================] - 7s 22ms/step - loss: 0.1582 - accuracy: 0.9488 - val_loss: 2.6057 - val_accuracy: 0.5198
Epoch 21/22
301/301 [==============================] - 7s 23ms/step - loss: 0.1447 - accuracy: 0.9537 - val_loss: 2.3894 - val_accuracy: 0.5583
Epoch 22/22
301/301 [==============================] - 7s 23ms/step - loss: 0.1033 - accuracy: 0.9704 - val_loss: 2.8335 - val_accuracy: 0.5292
<tensorflow.python.keras.callbacks.History at 0x7f247c383290>
model.save('model.h5')
import cv2
test_img = cv2.imread('../input/happy-img-test/pexels-andrea-piacquadio-941693.jpg', 0)
test_img.shape
(82, 73)
test_img = cv2.resize(test_img, (48,48))
test_img.shape
(48, 48)
test_img = test_img.reshape(1,48,48,1)
model.predict(test_img)
array([[0., 0., 1., 0., 0., 0.]], dtype=float32)
# label_map = ['Anger', 'Neutral', 'Fear', 'Happy', 'Sad', 'Surprise']
