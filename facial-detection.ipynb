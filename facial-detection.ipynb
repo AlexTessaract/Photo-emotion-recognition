{
 "cells": [
  {
   "cell_type": "code",
   "execution_count": 1,
   "id": "939f87e6",
   "metadata": {
    "_cell_guid": "b1076dfc-b9ad-4769-8c92-a6c4dae69d19",
    "_uuid": "8f2839f25d086af736a60e9eeb907d3b93b6e0e5",
    "execution": {
     "iopub.execute_input": "2022-02-18T05:48:56.581891Z",
     "iopub.status.busy": "2022-02-18T05:48:56.579974Z",
     "iopub.status.idle": "2022-02-18T05:49:02.210348Z",
     "shell.execute_reply": "2022-02-18T05:49:02.210839Z",
     "shell.execute_reply.started": "2022-02-18T05:46:24.683838Z"
    },
    "papermill": {
     "duration": 5.677484,
     "end_time": "2022-02-18T05:49:02.211167",
     "exception": false,
     "start_time": "2022-02-18T05:48:56.533683",
     "status": "completed"
    },
    "tags": []
   },
   "outputs": [
    {
     "data": {
      "text/html": [
       "<div>\n",
       "<style scoped>\n",
       "    .dataframe tbody tr th:only-of-type {\n",
       "        vertical-align: middle;\n",
       "    }\n",
       "\n",
       "    .dataframe tbody tr th {\n",
       "        vertical-align: top;\n",
       "    }\n",
       "\n",
       "    .dataframe thead th {\n",
       "        text-align: right;\n",
       "    }\n",
       "</style>\n",
       "<table border=\"1\" class=\"dataframe\">\n",
       "  <thead>\n",
       "    <tr style=\"text-align: right;\">\n",
       "      <th></th>\n",
       "      <th>emotion</th>\n",
       "      <th>pixels</th>\n",
       "      <th>Usage</th>\n",
       "    </tr>\n",
       "  </thead>\n",
       "  <tbody>\n",
       "    <tr>\n",
       "      <th>0</th>\n",
       "      <td>0</td>\n",
       "      <td>70 80 82 72 58 58 60 63 54 58 60 48 89 115 121...</td>\n",
       "      <td>Training</td>\n",
       "    </tr>\n",
       "    <tr>\n",
       "      <th>1</th>\n",
       "      <td>0</td>\n",
       "      <td>151 150 147 155 148 133 111 140 170 174 182 15...</td>\n",
       "      <td>Training</td>\n",
       "    </tr>\n",
       "    <tr>\n",
       "      <th>2</th>\n",
       "      <td>2</td>\n",
       "      <td>231 212 156 164 174 138 161 173 182 200 106 38...</td>\n",
       "      <td>Training</td>\n",
       "    </tr>\n",
       "    <tr>\n",
       "      <th>3</th>\n",
       "      <td>4</td>\n",
       "      <td>24 32 36 30 32 23 19 20 30 41 21 22 32 34 21 1...</td>\n",
       "      <td>Training</td>\n",
       "    </tr>\n",
       "    <tr>\n",
       "      <th>4</th>\n",
       "      <td>6</td>\n",
       "      <td>4 0 0 0 0 0 0 0 0 0 0 0 3 15 23 28 48 50 58 84...</td>\n",
       "      <td>Training</td>\n",
       "    </tr>\n",
       "  </tbody>\n",
       "</table>\n",
       "</div>"
      ],
      "text/plain": [
       "   emotion                                             pixels     Usage\n",
       "0        0  70 80 82 72 58 58 60 63 54 58 60 48 89 115 121...  Training\n",
       "1        0  151 150 147 155 148 133 111 140 170 174 182 15...  Training\n",
       "2        2  231 212 156 164 174 138 161 173 182 200 106 38...  Training\n",
       "3        4  24 32 36 30 32 23 19 20 30 41 21 22 32 34 21 1...  Training\n",
       "4        6  4 0 0 0 0 0 0 0 0 0 0 0 3 15 23 28 48 50 58 84...  Training"
      ]
     },
     "execution_count": 1,
     "metadata": {},
     "output_type": "execute_result"
    }
   ],
   "source": [
    "\n",
    "import numpy as np # linear algebra\n",
    "import pandas as pd # data processing, CSV file I/O (e.g. pd.read_csv)\n",
    "import cv2\n",
    "\n",
    "\n",
    "df = pd.read_csv('../input/facial-expression/fer2013.csv')\n",
    "\n",
    "df.head()\n"
   ]
  },
  {
   "cell_type": "code",
   "execution_count": 2,
   "id": "bab37e7d",
   "metadata": {
    "execution": {
     "iopub.execute_input": "2022-02-18T05:49:02.303241Z",
     "iopub.status.busy": "2022-02-18T05:49:02.302432Z",
     "iopub.status.idle": "2022-02-18T05:49:02.306119Z",
     "shell.execute_reply": "2022-02-18T05:49:02.305502Z",
     "shell.execute_reply.started": "2022-02-18T05:46:29.507755Z"
    },
    "papermill": {
     "duration": 0.053176,
     "end_time": "2022-02-18T05:49:02.306259",
     "exception": false,
     "start_time": "2022-02-18T05:49:02.253083",
     "status": "completed"
    },
    "tags": []
   },
   "outputs": [
    {
     "data": {
      "text/plain": [
       "2304"
      ]
     },
     "execution_count": 2,
     "metadata": {},
     "output_type": "execute_result"
    }
   ],
   "source": [
    "len(df.iloc[0]['pixels'].split())\n",
    "#48*48"
   ]
  },
  {
   "cell_type": "code",
   "execution_count": 3,
   "id": "aa4280e7",
   "metadata": {
    "execution": {
     "iopub.execute_input": "2022-02-18T05:49:02.390591Z",
     "iopub.status.busy": "2022-02-18T05:49:02.389949Z",
     "iopub.status.idle": "2022-02-18T05:49:02.393580Z",
     "shell.execute_reply": "2022-02-18T05:49:02.394148Z",
     "shell.execute_reply.started": "2022-02-18T05:46:29.515705Z"
    },
    "papermill": {
     "duration": 0.047385,
     "end_time": "2022-02-18T05:49:02.394320",
     "exception": false,
     "start_time": "2022-02-18T05:49:02.346935",
     "status": "completed"
    },
    "tags": []
   },
   "outputs": [],
   "source": [
    "label_map = ['Anger','Disgust','Fear','Sad','Happy','Surprise','Neutral']"
   ]
  },
  {
   "cell_type": "code",
   "execution_count": 4,
   "id": "92c333c2",
   "metadata": {
    "execution": {
     "iopub.execute_input": "2022-02-18T05:49:02.479163Z",
     "iopub.status.busy": "2022-02-18T05:49:02.478515Z",
     "iopub.status.idle": "2022-02-18T05:49:02.482279Z",
     "shell.execute_reply": "2022-02-18T05:49:02.482801Z",
     "shell.execute_reply.started": "2022-02-18T05:46:29.533075Z"
    },
    "papermill": {
     "duration": 0.047879,
     "end_time": "2022-02-18T05:49:02.482969",
     "exception": false,
     "start_time": "2022-02-18T05:49:02.435090",
     "status": "completed"
    },
    "tags": []
   },
   "outputs": [],
   "source": [
    "import matplotlib.pyplot as plt"
   ]
  },
  {
   "cell_type": "code",
   "execution_count": 5,
   "id": "2d31afa4",
   "metadata": {
    "execution": {
     "iopub.execute_input": "2022-02-18T05:49:02.572232Z",
     "iopub.status.busy": "2022-02-18T05:49:02.571507Z",
     "iopub.status.idle": "2022-02-18T05:49:02.573583Z",
     "shell.execute_reply": "2022-02-18T05:49:02.574199Z",
     "shell.execute_reply.started": "2022-02-18T05:46:29.550682Z"
    },
    "papermill": {
     "duration": 0.048877,
     "end_time": "2022-02-18T05:49:02.574378",
     "exception": false,
     "start_time": "2022-02-18T05:49:02.525501",
     "status": "completed"
    },
    "tags": []
   },
   "outputs": [],
   "source": [
    "img = df.iloc[0]['pixels'].split()"
   ]
  },
  {
   "cell_type": "code",
   "execution_count": 6,
   "id": "f00261c4",
   "metadata": {
    "execution": {
     "iopub.execute_input": "2022-02-18T05:49:02.661570Z",
     "iopub.status.busy": "2022-02-18T05:49:02.660889Z",
     "iopub.status.idle": "2022-02-18T05:49:02.663158Z",
     "shell.execute_reply": "2022-02-18T05:49:02.663643Z",
     "shell.execute_reply.started": "2022-02-18T05:46:29.569058Z"
    },
    "papermill": {
     "duration": 0.048871,
     "end_time": "2022-02-18T05:49:02.663809",
     "exception": false,
     "start_time": "2022-02-18T05:49:02.614938",
     "status": "completed"
    },
    "tags": []
   },
   "outputs": [],
   "source": [
    "img = [int(i) for i in img]"
   ]
  },
  {
   "cell_type": "code",
   "execution_count": 7,
   "id": "82b5726e",
   "metadata": {
    "execution": {
     "iopub.execute_input": "2022-02-18T05:49:02.749728Z",
     "iopub.status.busy": "2022-02-18T05:49:02.747626Z",
     "iopub.status.idle": "2022-02-18T05:49:02.753461Z",
     "shell.execute_reply": "2022-02-18T05:49:02.752917Z",
     "shell.execute_reply.started": "2022-02-18T05:46:29.584223Z"
    },
    "papermill": {
     "duration": 0.049381,
     "end_time": "2022-02-18T05:49:02.753614",
     "exception": false,
     "start_time": "2022-02-18T05:49:02.704233",
     "status": "completed"
    },
    "tags": []
   },
   "outputs": [
    {
     "data": {
      "text/plain": [
       "int"
      ]
     },
     "execution_count": 7,
     "metadata": {},
     "output_type": "execute_result"
    }
   ],
   "source": [
    "type (img[0])"
   ]
  },
  {
   "cell_type": "code",
   "execution_count": 8,
   "id": "05f88718",
   "metadata": {
    "execution": {
     "iopub.execute_input": "2022-02-18T05:49:02.840953Z",
     "iopub.status.busy": "2022-02-18T05:49:02.840318Z",
     "iopub.status.idle": "2022-02-18T05:49:02.843689Z",
     "shell.execute_reply": "2022-02-18T05:49:02.844159Z",
     "shell.execute_reply.started": "2022-02-18T05:46:29.604919Z"
    },
    "papermill": {
     "duration": 0.049791,
     "end_time": "2022-02-18T05:49:02.844340",
     "exception": false,
     "start_time": "2022-02-18T05:49:02.794549",
     "status": "completed"
    },
    "tags": []
   },
   "outputs": [
    {
     "data": {
      "text/plain": [
       "2304"
      ]
     },
     "execution_count": 8,
     "metadata": {},
     "output_type": "execute_result"
    }
   ],
   "source": [
    "len(img)"
   ]
  },
  {
   "cell_type": "code",
   "execution_count": 9,
   "id": "b2b2e7ab",
   "metadata": {
    "execution": {
     "iopub.execute_input": "2022-02-18T05:49:02.931922Z",
     "iopub.status.busy": "2022-02-18T05:49:02.931265Z",
     "iopub.status.idle": "2022-02-18T05:49:02.934793Z",
     "shell.execute_reply": "2022-02-18T05:49:02.935389Z",
     "shell.execute_reply.started": "2022-02-18T05:46:29.624182Z"
    },
    "papermill": {
     "duration": 0.048798,
     "end_time": "2022-02-18T05:49:02.935560",
     "exception": false,
     "start_time": "2022-02-18T05:49:02.886762",
     "status": "completed"
    },
    "tags": []
   },
   "outputs": [],
   "source": [
    "img = np.array(img)"
   ]
  },
  {
   "cell_type": "code",
   "execution_count": 10,
   "id": "690c0788",
   "metadata": {
    "execution": {
     "iopub.execute_input": "2022-02-18T05:49:03.022466Z",
     "iopub.status.busy": "2022-02-18T05:49:03.021768Z",
     "iopub.status.idle": "2022-02-18T05:49:03.024531Z",
     "shell.execute_reply": "2022-02-18T05:49:03.025143Z",
     "shell.execute_reply.started": "2022-02-18T05:46:29.641246Z"
    },
    "papermill": {
     "duration": 0.048547,
     "end_time": "2022-02-18T05:49:03.025318",
     "exception": false,
     "start_time": "2022-02-18T05:49:02.976771",
     "status": "completed"
    },
    "tags": []
   },
   "outputs": [],
   "source": [
    "img = img.reshape(48,48)"
   ]
  },
  {
   "cell_type": "code",
   "execution_count": 11,
   "id": "0ac26a3c",
   "metadata": {
    "execution": {
     "iopub.execute_input": "2022-02-18T05:49:03.114254Z",
     "iopub.status.busy": "2022-02-18T05:49:03.113564Z",
     "iopub.status.idle": "2022-02-18T05:49:03.116060Z",
     "shell.execute_reply": "2022-02-18T05:49:03.116623Z",
     "shell.execute_reply.started": "2022-02-18T05:46:29.657858Z"
    },
    "papermill": {
     "duration": 0.049882,
     "end_time": "2022-02-18T05:49:03.116789",
     "exception": false,
     "start_time": "2022-02-18T05:49:03.066907",
     "status": "completed"
    },
    "tags": []
   },
   "outputs": [
    {
     "data": {
      "text/plain": [
       "(48, 48)"
      ]
     },
     "execution_count": 11,
     "metadata": {},
     "output_type": "execute_result"
    }
   ],
   "source": [
    "img.shape"
   ]
  },
  {
   "cell_type": "code",
   "execution_count": 12,
   "id": "03915db8",
   "metadata": {
    "execution": {
     "iopub.execute_input": "2022-02-18T05:49:03.209460Z",
     "iopub.status.busy": "2022-02-18T05:49:03.203261Z",
     "iopub.status.idle": "2022-02-18T05:49:03.389484Z",
     "shell.execute_reply": "2022-02-18T05:49:03.390004Z",
     "shell.execute_reply.started": "2022-02-18T05:46:29.675679Z"
    },
    "papermill": {
     "duration": 0.231792,
     "end_time": "2022-02-18T05:49:03.390199",
     "exception": false,
     "start_time": "2022-02-18T05:49:03.158407",
     "status": "completed"
    },
    "tags": []
   },
   "outputs": [
    {
     "data": {
      "text/plain": [
       "Text(0.5, 0, '0')"
      ]
     },
     "execution_count": 12,
     "metadata": {},
     "output_type": "execute_result"
    },
    {
     "data": {
      "image/png": "[encoded data removed]",
      "text/plain": [
       "<Figure size 432x288 with 1 Axes>"
      ]
     },
     "metadata": {
      "needs_background": "light"
     },
     "output_type": "display_data"
    }
   ],
   "source": [
    "plt.imshow(img, cmap = 'gray')\n",
    "plt.xlabel(df.iloc[0]['emotion'])"
   ]
  },
  {
   "cell_type": "code",
   "execution_count": 13,
   "id": "a72b776f",
   "metadata": {
    "execution": {
     "iopub.execute_input": "2022-02-18T05:49:03.481855Z",
     "iopub.status.busy": "2022-02-18T05:49:03.481176Z",
     "iopub.status.idle": "2022-02-18T05:49:03.482518Z",
     "shell.execute_reply": "2022-02-18T05:49:03.483157Z",
     "shell.execute_reply.started": "2022-02-18T05:46:29.877820Z"
    },
    "papermill": {
     "duration": 0.050015,
     "end_time": "2022-02-18T05:49:03.483332",
     "exception": false,
     "start_time": "2022-02-18T05:49:03.433317",
     "status": "completed"
    },
    "tags": []
   },
   "outputs": [],
   "source": [
    "X=[]\n",
    "y=[]"
   ]
  },
  {
   "cell_type": "code",
   "execution_count": 14,
   "id": "e7983cc9",
   "metadata": {
    "execution": {
     "iopub.execute_input": "2022-02-18T05:49:03.574447Z",
     "iopub.status.busy": "2022-02-18T05:49:03.573704Z",
     "iopub.status.idle": "2022-02-18T05:49:03.696080Z",
     "shell.execute_reply": "2022-02-18T05:49:03.695529Z",
     "shell.execute_reply.started": "2022-02-18T05:46:29.892688Z"
    },
    "papermill": {
     "duration": 0.169013,
     "end_time": "2022-02-18T05:49:03.696252",
     "exception": false,
     "start_time": "2022-02-18T05:49:03.527239",
     "status": "completed"
    },
    "tags": []
   },
   "outputs": [],
   "source": [
    "def getData(path):\n",
    "    anger = 0\n",
    "    disgust = 0\n",
    "    fear = 0\n",
    "    sad = 0\n",
    "    happy = 0\n",
    "    surprise = 0\n",
    "    neutral = 0\n",
    "    df = pd.read_csv(path)\n",
    "    \n",
    "    X = []\n",
    "    y = []\n",
    "    \n",
    "    for i in range(len(df)):\n",
    "            if df.iloc[i]['emotion'] == 0:\n",
    "                if anger <= 4000:            \n",
    "                    y.append(df.iloc[i]['emotion'])\n",
    "                    im = df.iloc[i]['pixels']\n",
    "                    im = [int(x) for x in im.split()]\n",
    "                    X.append(im)\n",
    "                    anger += 1\n",
    "                else:\n",
    "                    pass\n",
    "                \n",
    "            if df.iloc[i]['emotion'] == 1:\n",
    "                if disgust <= 4000:            \n",
    "                    y.append(df.iloc[i]['emotion'])\n",
    "                    im = df.iloc[i]['pixels']\n",
    "                    im = [int(x) for x in im.split()]\n",
    "                    X.append(im)\n",
    "                    disgust += 1\n",
    "                else:\n",
    "                    pass\n",
    "                \n",
    "            if df.iloc[i]['emotion'] == 2:\n",
    "                if fear <= 4000:            \n",
    "                    y.append(df.iloc[i]['emotion'])\n",
    "                    im = df.iloc[i]['pixels']\n",
    "                    im = [int(x) for x in im.split()]\n",
    "                    X.append(im)\n",
    "                    fear += 1\n",
    "                else:\n",
    "                    pass\n",
    "                \n",
    "            if df.iloc[i]['emotion'] == 3:\n",
    "                if sad <= 4000:            \n",
    "                    y.append(df.iloc[i]['emotion'])\n",
    "                    im = df.iloc[i]['pixels']\n",
    "                    im = [int(x) for x in im.split()]\n",
    "                    X.append(im)\n",
    "                    sad += 1\n",
    "                else:\n",
    "                    pass\n",
    "                \n",
    "            if df.iloc[i]['emotion'] == 4:\n",
    "                if happy <= 4000:            \n",
    "                    y.append(df.iloc[i]['emotion'])\n",
    "                    im = df.iloc[i]['pixels']\n",
    "                    im = [int(x) for x in im.split()]\n",
    "                    X.append(im)\n",
    "                    happy += 1\n",
    "                else:\n",
    "                    pass\n",
    "                \n",
    "            if df.iloc[i]['emotion'] == 5:\n",
    "                if surprise <= 4000:            \n",
    "                    y.append(df.iloc[i]['emotion'])\n",
    "                    im = df.iloc[i]['pixels']\n",
    "                    im = [int(x) for x in im.split()]\n",
    "                    X.append(im)\n",
    "                    surprise += 1\n",
    "                else:\n",
    "                    pass\n",
    "                \n",
    "            if df.iloc[i]['emotion'] == 6:\n",
    "                if neutral <= 4000:            \n",
    "                    y.append(df.iloc[i]['emotion'])\n",
    "                    im = df.iloc[i]['pixels']\n",
    "                    im = [int(x) for x in im.split()]\n",
    "                    X.append(im)\n",
    "                    neutral += 1\n",
    "                else:\n",
    "                    pass\n",
    "                \n",
    "                \n",
    "    return X, y"
   ]
  },
  {
   "cell_type": "code",
   "execution_count": 15,
   "id": "3d87d0e9",
   "metadata": {
    "execution": {
     "iopub.execute_input": "2022-02-18T05:49:03.788149Z",
     "iopub.status.busy": "2022-02-18T05:49:03.787495Z",
     "iopub.status.idle": "2022-02-18T05:49:57.402918Z",
     "shell.execute_reply": "2022-02-18T05:49:57.402291Z",
     "shell.execute_reply.started": "2022-02-18T05:46:29.922909Z"
    },
    "papermill": {
     "duration": 53.662281,
     "end_time": "2022-02-18T05:49:57.403093",
     "exception": false,
     "start_time": "2022-02-18T05:49:03.740812",
     "status": "completed"
    },
    "tags": []
   },
   "outputs": [],
   "source": [
    "X, y = getData('../input/facial-expression/fer2013.csv')"
   ]
  },
  {
   "cell_type": "code",
   "execution_count": 16,
   "id": "c4c4ac16",
   "metadata": {
    "execution": {
     "iopub.execute_input": "2022-02-18T05:49:57.498884Z",
     "iopub.status.busy": "2022-02-18T05:49:57.497911Z",
     "iopub.status.idle": "2022-02-18T05:49:57.502020Z",
     "shell.execute_reply": "2022-02-18T05:49:57.502646Z",
     "shell.execute_reply.started": "2022-02-18T05:47:32.789988Z"
    },
    "papermill": {
     "duration": 0.055082,
     "end_time": "2022-02-18T05:49:57.502814",
     "exception": false,
     "start_time": "2022-02-18T05:49:57.447732",
     "status": "completed"
    },
    "tags": []
   },
   "outputs": [
    {
     "data": {
      "text/plain": [
       "(array([0, 1, 2, 3, 4, 5, 6]),\n",
       " array([4001,  547, 4001, 4001, 4001, 4001, 4001]))"
      ]
     },
     "execution_count": 16,
     "metadata": {},
     "output_type": "execute_result"
    }
   ],
   "source": [
    "np.unique(y, return_counts=True)"
   ]
  },
  {
   "cell_type": "code",
   "execution_count": 17,
   "id": "51e80619",
   "metadata": {
    "execution": {
     "iopub.execute_input": "2022-02-18T05:49:57.593131Z",
     "iopub.status.busy": "2022-02-18T05:49:57.592452Z",
     "iopub.status.idle": "2022-02-18T05:50:05.534098Z",
     "shell.execute_reply": "2022-02-18T05:50:05.534650Z",
     "shell.execute_reply.started": "2022-02-18T05:47:32.802871Z"
    },
    "papermill": {
     "duration": 7.988481,
     "end_time": "2022-02-18T05:50:05.534825",
     "exception": false,
     "start_time": "2022-02-18T05:49:57.546344",
     "status": "completed"
    },
    "tags": []
   },
   "outputs": [],
   "source": [
    "X = np.array(X)/255.0\n",
    "y = np.array(y)"
   ]
  },
  {
   "cell_type": "code",
   "execution_count": 18,
   "id": "57abac63",
   "metadata": {
    "execution": {
     "iopub.execute_input": "2022-02-18T05:50:05.627602Z",
     "iopub.status.busy": "2022-02-18T05:50:05.626873Z",
     "iopub.status.idle": "2022-02-18T05:50:05.630886Z",
     "shell.execute_reply": "2022-02-18T05:50:05.630327Z",
     "shell.execute_reply.started": "2022-02-18T05:47:36.764528Z"
    },
    "papermill": {
     "duration": 0.052977,
     "end_time": "2022-02-18T05:50:05.631035",
     "exception": false,
     "start_time": "2022-02-18T05:50:05.578058",
     "status": "completed"
    },
    "tags": []
   },
   "outputs": [
    {
     "data": {
      "text/plain": [
       "((24553, 2304), (24553,))"
      ]
     },
     "execution_count": 18,
     "metadata": {},
     "output_type": "execute_result"
    }
   ],
   "source": [
    "X.shape, y.shape"
   ]
  },
  {
   "cell_type": "code",
   "execution_count": 19,
   "id": "64d9bc2d",
   "metadata": {
    "execution": {
     "iopub.execute_input": "2022-02-18T05:50:05.724618Z",
     "iopub.status.busy": "2022-02-18T05:50:05.723357Z",
     "iopub.status.idle": "2022-02-18T05:50:05.741605Z",
     "shell.execute_reply": "2022-02-18T05:50:05.742179Z",
     "shell.execute_reply.started": "2022-02-18T05:47:36.770850Z"
    },
    "papermill": {
     "duration": 0.067453,
     "end_time": "2022-02-18T05:50:05.742368",
     "exception": false,
     "start_time": "2022-02-18T05:50:05.674915",
     "status": "completed"
    },
    "tags": []
   },
   "outputs": [],
   "source": [
    "y_o = []\n",
    "for i in y:\n",
    "    if i != 7:\n",
    "        y_o.append(i)\n",
    "        \n",
    "    else:\n",
    "        y_o.append(1)"
   ]
  },
  {
   "cell_type": "code",
   "execution_count": 20,
   "id": "a0f99693",
   "metadata": {
    "execution": {
     "iopub.execute_input": "2022-02-18T05:50:05.834985Z",
     "iopub.status.busy": "2022-02-18T05:50:05.833978Z",
     "iopub.status.idle": "2022-02-18T05:50:05.843802Z",
     "shell.execute_reply": "2022-02-18T05:50:05.843099Z",
     "shell.execute_reply.started": "2022-02-18T05:47:36.793156Z"
    },
    "papermill": {
     "duration": 0.057885,
     "end_time": "2022-02-18T05:50:05.843954",
     "exception": false,
     "start_time": "2022-02-18T05:50:05.786069",
     "status": "completed"
    },
    "tags": []
   },
   "outputs": [
    {
     "data": {
      "text/plain": [
       "(array([0, 1, 2, 3, 4, 5, 6]),\n",
       " array([4001,  547, 4001, 4001, 4001, 4001, 4001]))"
      ]
     },
     "execution_count": 20,
     "metadata": {},
     "output_type": "execute_result"
    }
   ],
   "source": [
    "np.unique(y_o, return_counts=True)"
   ]
  },
  {
   "cell_type": "code",
   "execution_count": 21,
   "id": "4404ad8b",
   "metadata": {
    "execution": {
     "iopub.execute_input": "2022-02-18T05:50:05.938931Z",
     "iopub.status.busy": "2022-02-18T05:50:05.938275Z",
     "iopub.status.idle": "2022-02-18T05:50:06.757841Z",
     "shell.execute_reply": "2022-02-18T05:50:06.758350Z",
     "shell.execute_reply.started": "2022-02-18T05:47:36.812321Z"
    },
    "papermill": {
     "duration": 0.869098,
     "end_time": "2022-02-18T05:50:06.758533",
     "exception": false,
     "start_time": "2022-02-18T05:50:05.889435",
     "status": "completed"
    },
    "tags": []
   },
   "outputs": [
    {
     "data": {
      "image/png": "[encoded data removed]",
      "text/plain": [
       "<Figure size 432x288 with 1 Axes>"
      ]
     },
     "metadata": {
      "needs_background": "light"
     },
     "output_type": "display_data"
    },
    {
     "data": {
      "image/png": "[encoded data removed]",
      "text/plain": [
       "<Figure size 432x288 with 1 Axes>"
      ]
     },
     "metadata": {
      "needs_background": "light"
     },
     "output_type": "display_data"
    },
    {
     "data": {
      "image/png": "[encoded data removed]",
      "text/plain": [
       "<Figure size 432x288 with 1 Axes>"
      ]
     },
     "metadata": {
      "needs_background": "light"
     },
     "output_type": "display_data"
    },
    {
     "data": {
      "image/png": "[encoded data removed]",
      "text/plain": [
       "<Figure size 432x288 with 1 Axes>"
      ]
     },
     "metadata": {
      "needs_background": "light"
     },
     "output_type": "display_data"
    },
    {
     "data": {
      "image/png": "[encoded data removed]",
      "text/plain": [
       "<Figure size 432x288 with 1 Axes>"
      ]
     },
     "metadata": {
      "needs_background": "light"
     },
     "output_type": "display_data"
    },
    {
     "data": {
      "image/png": "[encoded data removed]",
      "text/plain": [
       "<Figure size 432x288 with 1 Axes>"
      ]
     },
     "metadata": {
      "needs_background": "light"
     },
     "output_type": "display_data"
    }
   ],
   "source": [
    "for i in range(6):\n",
    "    r = np.random.randint((1), 24000, 1)[0]\n",
    "    plt.figure()\n",
    "    plt.imshow(X[r].reshape(48,48), cmap='gray')\n",
    "    plt.xlabel(label_map[y_o[r]])"
   ]
  },
  {
   "cell_type": "code",
   "execution_count": 22,
   "id": "1d5b1ea5",
   "metadata": {
    "execution": {
     "iopub.execute_input": "2022-02-18T05:50:06.861310Z",
     "iopub.status.busy": "2022-02-18T05:50:06.860666Z",
     "iopub.status.idle": "2022-02-18T05:50:06.864147Z",
     "shell.execute_reply": "2022-02-18T05:50:06.864669Z",
     "shell.execute_reply.started": "2022-02-18T05:47:37.650533Z"
    },
    "papermill": {
     "duration": 0.056399,
     "end_time": "2022-02-18T05:50:06.864832",
     "exception": false,
     "start_time": "2022-02-18T05:50:06.808433",
     "status": "completed"
    },
    "tags": []
   },
   "outputs": [],
   "source": [
    "X = X.reshape(len(X), 48, 48, 1)"
   ]
  },
  {
   "cell_type": "code",
   "execution_count": 23,
   "id": "515c1179",
   "metadata": {
    "execution": {
     "iopub.execute_input": "2022-02-18T05:50:06.969137Z",
     "iopub.status.busy": "2022-02-18T05:50:06.968441Z",
     "iopub.status.idle": "2022-02-18T05:50:06.970688Z",
     "shell.execute_reply": "2022-02-18T05:50:06.971678Z",
     "shell.execute_reply.started": "2022-02-18T05:47:37.656719Z"
    },
    "papermill": {
     "duration": 0.057068,
     "end_time": "2022-02-18T05:50:06.971862",
     "exception": false,
     "start_time": "2022-02-18T05:50:06.914794",
     "status": "completed"
    },
    "tags": []
   },
   "outputs": [],
   "source": [
    "# no_of_images, height, width, coloar_map"
   ]
  },
  {
   "cell_type": "code",
   "execution_count": 24,
   "id": "c04da6e2",
   "metadata": {
    "execution": {
     "iopub.execute_input": "2022-02-18T05:50:07.075830Z",
     "iopub.status.busy": "2022-02-18T05:50:07.075209Z",
     "iopub.status.idle": "2022-02-18T05:50:07.079557Z",
     "shell.execute_reply": "2022-02-18T05:50:07.078854Z",
     "shell.execute_reply.started": "2022-02-18T05:47:37.668865Z"
    },
    "papermill": {
     "duration": 0.058329,
     "end_time": "2022-02-18T05:50:07.079705",
     "exception": false,
     "start_time": "2022-02-18T05:50:07.021376",
     "status": "completed"
    },
    "tags": []
   },
   "outputs": [
    {
     "data": {
      "text/plain": [
       "(24553, 48, 48, 1)"
      ]
     },
     "execution_count": 24,
     "metadata": {},
     "output_type": "execute_result"
    }
   ],
   "source": [
    "X.shape"
   ]
  },
  {
   "cell_type": "code",
   "execution_count": 25,
   "id": "70acde0a",
   "metadata": {
    "execution": {
     "iopub.execute_input": "2022-02-18T05:50:07.188391Z",
     "iopub.status.busy": "2022-02-18T05:50:07.187463Z",
     "iopub.status.idle": "2022-02-18T05:50:13.328969Z",
     "shell.execute_reply": "2022-02-18T05:50:13.328273Z",
     "shell.execute_reply.started": "2022-02-18T05:47:37.687936Z"
    },
    "papermill": {
     "duration": 6.197797,
     "end_time": "2022-02-18T05:50:13.329152",
     "exception": false,
     "start_time": "2022-02-18T05:50:07.131355",
     "status": "completed"
    },
    "tags": []
   },
   "outputs": [],
   "source": [
    "from tensorflow.keras.utils import to_categorical\n",
    "y_new = to_categorical(y_o, num_classes=7)"
   ]
  },
  {
   "cell_type": "code",
   "execution_count": 26,
   "id": "dc77ef43",
   "metadata": {
    "execution": {
     "iopub.execute_input": "2022-02-18T05:50:13.435932Z",
     "iopub.status.busy": "2022-02-18T05:50:13.435252Z",
     "iopub.status.idle": "2022-02-18T05:50:13.437911Z",
     "shell.execute_reply": "2022-02-18T05:50:13.438420Z",
     "shell.execute_reply.started": "2022-02-18T05:47:37.703236Z"
    },
    "papermill": {
     "duration": 0.058519,
     "end_time": "2022-02-18T05:50:13.438588",
     "exception": false,
     "start_time": "2022-02-18T05:50:13.380069",
     "status": "completed"
    },
    "tags": []
   },
   "outputs": [
    {
     "data": {
      "text/plain": [
       "(24553, (24553, 7))"
      ]
     },
     "execution_count": 26,
     "metadata": {},
     "output_type": "execute_result"
    }
   ],
   "source": [
    "len(y_o), y_new.shape"
   ]
  },
  {
   "cell_type": "markdown",
   "id": "51c54678",
   "metadata": {
    "papermill": {
     "duration": 0.05019,
     "end_time": "2022-02-18T05:50:13.541535",
     "exception": false,
     "start_time": "2022-02-18T05:50:13.491345",
     "status": "completed"
    },
    "tags": []
   },
   "source": []
  },
  {
   "cell_type": "code",
   "execution_count": 27,
   "id": "e8079866",
   "metadata": {
    "execution": {
     "iopub.execute_input": "2022-02-18T05:50:13.646321Z",
     "iopub.status.busy": "2022-02-18T05:50:13.645635Z",
     "iopub.status.idle": "2022-02-18T05:50:13.651065Z",
     "shell.execute_reply": "2022-02-18T05:50:13.651565Z",
     "shell.execute_reply.started": "2022-02-18T05:47:37.721229Z"
    },
    "papermill": {
     "duration": 0.058915,
     "end_time": "2022-02-18T05:50:13.651726",
     "exception": false,
     "start_time": "2022-02-18T05:50:13.592811",
     "status": "completed"
    },
    "tags": []
   },
   "outputs": [
    {
     "data": {
      "text/plain": [
       "(0, array([1., 0., 0., 0., 0., 0., 0.], dtype=float32))"
      ]
     },
     "execution_count": 27,
     "metadata": {},
     "output_type": "execute_result"
    }
   ],
   "source": [
    "y_o[150], y_new[150]"
   ]
  },
  {
   "cell_type": "code",
   "execution_count": 28,
   "id": "f13054d3",
   "metadata": {
    "execution": {
     "iopub.execute_input": "2022-02-18T05:50:13.755879Z",
     "iopub.status.busy": "2022-02-18T05:50:13.755219Z",
     "iopub.status.idle": "2022-02-18T05:50:13.762202Z",
     "shell.execute_reply": "2022-02-18T05:50:13.762733Z",
     "shell.execute_reply.started": "2022-02-18T05:47:37.739719Z"
    },
    "papermill": {
     "duration": 0.060816,
     "end_time": "2022-02-18T05:50:13.762957",
     "exception": false,
     "start_time": "2022-02-18T05:50:13.702141",
     "status": "completed"
    },
    "tags": []
   },
   "outputs": [],
   "source": [
    "from tensorflow.keras.models import Sequential\n",
    "from tensorflow.keras.layers import Dense , Activation , Dropout ,Flatten\n",
    "from tensorflow.keras.layers import Conv2D, MaxPooling2D,Dropout\n",
    "from tensorflow.keras.metrics import categorical_accuracy\n",
    "from tensorflow.keras.models import model_from_json\n",
    "from tensorflow.keras.callbacks import ModelCheckpoint\n",
    "from tensorflow.keras.optimizers import *\n",
    "from tensorflow.keras.layers import BatchNormalization"
   ]
  },
  {
   "cell_type": "code",
   "execution_count": 29,
   "id": "b714e085",
   "metadata": {
    "execution": {
     "iopub.execute_input": "2022-02-18T05:50:13.877936Z",
     "iopub.status.busy": "2022-02-18T05:50:13.876917Z",
     "iopub.status.idle": "2022-02-18T05:50:14.113646Z",
     "shell.execute_reply": "2022-02-18T05:50:14.114193Z",
     "shell.execute_reply.started": "2022-02-18T05:47:37.756560Z"
    },
    "papermill": {
     "duration": 0.299219,
     "end_time": "2022-02-18T05:50:14.114370",
     "exception": false,
     "start_time": "2022-02-18T05:50:13.815151",
     "status": "completed"
    },
    "tags": []
   },
   "outputs": [
    {
     "name": "stderr",
     "output_type": "stream",
     "text": [
      "2022-02-18 05:50:13.909329: I tensorflow/core/common_runtime/process_util.cc:146] Creating new thread pool with default inter op setting: 2. Tune using inter_op_parallelism_threads for best performance.\n"
     ]
    }
   ],
   "source": [
    "model = Sequential()\n",
    "\n",
    "input_shape = (48,48,1)\n",
    "\n",
    "\n",
    "model.add(Conv2D(64, (5, 5), input_shape=input_shape,activation='relu', padding='same'))\n",
    "model.add(Conv2D(64, (5, 5), padding='same'))\n",
    "model.add(BatchNormalization())\n",
    "model.add(Activation('relu'))\n",
    "model.add(MaxPooling2D(pool_size=(2, 2)))\n",
    "\n",
    "\n",
    "model.add(Conv2D(128, (5, 5),activation='relu',padding='same'))\n",
    "model.add(Conv2D(128, (5, 5),padding='same'))\n",
    "model.add(BatchNormalization())\n",
    "model.add(Activation('relu'))\n",
    "model.add(MaxPooling2D(pool_size=(2, 2)))\n",
    "\n",
    "model.add(Conv2D(256, (3, 3),activation='relu',padding='same'))\n",
    "model.add(Conv2D(256, (3, 3),activation='relu',padding='same'))\n",
    "model.add(BatchNormalization())\n",
    "model.add(MaxPooling2D(pool_size=(2, 2)))\n",
    "\n",
    "## (15, 15) --->  30\n",
    "model.add(Flatten())\n",
    "model.add(Dense(6, activation='softmax'))\n",
    "\n",
    "model.compile(loss='categorical_crossentropy', metrics=['accuracy'],optimizer='adam')"
   ]
  },
  {
   "cell_type": "code",
   "execution_count": 30,
   "id": "85709712",
   "metadata": {
    "execution": {
     "iopub.execute_input": "2022-02-18T05:50:14.221744Z",
     "iopub.status.busy": "2022-02-18T05:50:14.220719Z",
     "iopub.status.idle": "2022-02-18T05:50:14.224161Z",
     "shell.execute_reply": "2022-02-18T05:50:14.224666Z",
     "shell.execute_reply.started": "2022-02-18T05:47:37.906681Z"
    },
    "papermill": {
     "duration": 0.059643,
     "end_time": "2022-02-18T05:50:14.224832",
     "exception": false,
     "start_time": "2022-02-18T05:50:14.165189",
     "status": "completed"
    },
    "tags": []
   },
   "outputs": [],
   "source": [
    "#model.fit(X, y_new, epochs=22, batch_size=64, shuffle=True, validation_split=0.2)"
   ]
  },
  {
   "cell_type": "code",
   "execution_count": 31,
   "id": "76fce245",
   "metadata": {
    "execution": {
     "iopub.execute_input": "2022-02-18T05:50:14.332552Z",
     "iopub.status.busy": "2022-02-18T05:50:14.331597Z",
     "iopub.status.idle": "2022-02-18T05:50:14.342994Z",
     "shell.execute_reply": "2022-02-18T05:50:14.343712Z",
     "shell.execute_reply.started": "2022-02-18T05:47:37.911828Z"
    },
    "papermill": {
     "duration": 0.068066,
     "end_time": "2022-02-18T05:50:14.343914",
     "exception": false,
     "start_time": "2022-02-18T05:50:14.275848",
     "status": "completed"
    },
    "tags": []
   },
   "outputs": [
    {
     "name": "stdout",
     "output_type": "stream",
     "text": [
      "Model: \"sequential\"\n",
      "_________________________________________________________________\n",
      "Layer (type)                 Output Shape              Param #   \n",
      "=================================================================\n",
      "conv2d (Conv2D)              (None, 48, 48, 64)        1664      \n",
      "_________________________________________________________________\n",
      "conv2d_1 (Conv2D)            (None, 48, 48, 64)        102464    \n",
      "_________________________________________________________________\n",
      "batch_normalization (BatchNo (None, 48, 48, 64)        256       \n",
      "_________________________________________________________________\n",
      "activation (Activation)      (None, 48, 48, 64)        0         \n",
      "_________________________________________________________________\n",
      "max_pooling2d (MaxPooling2D) (None, 24, 24, 64)        0         \n",
      "_________________________________________________________________\n",
      "conv2d_2 (Conv2D)            (None, 24, 24, 128)       204928    \n",
      "_________________________________________________________________\n",
      "conv2d_3 (Conv2D)            (None, 24, 24, 128)       409728    \n",
      "_________________________________________________________________\n",
      "batch_normalization_1 (Batch (None, 24, 24, 128)       512       \n",
      "_________________________________________________________________\n",
      "activation_1 (Activation)    (None, 24, 24, 128)       0         \n",
      "_________________________________________________________________\n",
      "max_pooling2d_1 (MaxPooling2 (None, 12, 12, 128)       0         \n",
      "_________________________________________________________________\n",
      "conv2d_4 (Conv2D)            (None, 12, 12, 256)       295168    \n",
      "_________________________________________________________________\n",
      "conv2d_5 (Conv2D)            (None, 12, 12, 256)       590080    \n",
      "_________________________________________________________________\n",
      "batch_normalization_2 (Batch (None, 12, 12, 256)       1024      \n",
      "_________________________________________________________________\n",
      "max_pooling2d_2 (MaxPooling2 (None, 6, 6, 256)         0         \n",
      "_________________________________________________________________\n",
      "flatten (Flatten)            (None, 9216)              0         \n",
      "_________________________________________________________________\n",
      "dense (Dense)                (None, 6)                 55302     \n",
      "=================================================================\n",
      "Total params: 1,661,126\n",
      "Trainable params: 1,660,230\n",
      "Non-trainable params: 896\n",
      "_________________________________________________________________\n"
     ]
    }
   ],
   "source": [
    "model.summary()"
   ]
  },
  {
   "cell_type": "code",
   "execution_count": 32,
   "id": "6f00c2ff",
   "metadata": {
    "execution": {
     "iopub.execute_input": "2022-02-18T05:50:14.451874Z",
     "iopub.status.busy": "2022-02-18T05:50:14.451260Z",
     "iopub.status.idle": "2022-02-18T05:50:14.677521Z",
     "shell.execute_reply": "2022-02-18T05:50:14.678033Z",
     "shell.execute_reply.started": "2022-02-18T05:47:37.936638Z"
    },
    "papermill": {
     "duration": 0.28159,
     "end_time": "2022-02-18T05:50:14.678234",
     "exception": false,
     "start_time": "2022-02-18T05:50:14.396644",
     "status": "completed"
    },
    "tags": []
   },
   "outputs": [],
   "source": [
    "model.save('model.h5')"
   ]
  },
  {
   "cell_type": "code",
   "execution_count": 33,
   "id": "bb4e9212",
   "metadata": {
    "execution": {
     "iopub.execute_input": "2022-02-18T05:50:14.784582Z",
     "iopub.status.busy": "2022-02-18T05:50:14.783920Z",
     "iopub.status.idle": "2022-02-18T05:50:14.787235Z",
     "shell.execute_reply": "2022-02-18T05:50:14.787769Z",
     "shell.execute_reply.started": "2022-02-18T05:47:37.984239Z"
    },
    "papermill": {
     "duration": 0.057855,
     "end_time": "2022-02-18T05:50:14.787934",
     "exception": false,
     "start_time": "2022-02-18T05:50:14.730079",
     "status": "completed"
    },
    "tags": []
   },
   "outputs": [],
   "source": [
    "import cv2"
   ]
  },
  {
   "cell_type": "code",
   "execution_count": 34,
   "id": "c352e1f0",
   "metadata": {
    "execution": {
     "iopub.execute_input": "2022-02-18T05:50:14.894375Z",
     "iopub.status.busy": "2022-02-18T05:50:14.893732Z",
     "iopub.status.idle": "2022-02-18T05:50:14.902522Z",
     "shell.execute_reply": "2022-02-18T05:50:14.903054Z",
     "shell.execute_reply.started": "2022-02-18T05:47:37.989927Z"
    },
    "papermill": {
     "duration": 0.064079,
     "end_time": "2022-02-18T05:50:14.903256",
     "exception": false,
     "start_time": "2022-02-18T05:50:14.839177",
     "status": "completed"
    },
    "tags": []
   },
   "outputs": [],
   "source": [
    "test_img = cv2.imread('../input/happy-img-test/pexels-andrea-piacquadio-941693.jpg', 0)"
   ]
  },
  {
   "cell_type": "code",
   "execution_count": 35,
   "id": "750c7f3b",
   "metadata": {
    "execution": {
     "iopub.execute_input": "2022-02-18T05:50:15.009997Z",
     "iopub.status.busy": "2022-02-18T05:50:15.009364Z",
     "iopub.status.idle": "2022-02-18T05:50:15.012679Z",
     "shell.execute_reply": "2022-02-18T05:50:15.013286Z",
     "shell.execute_reply.started": "2022-02-18T05:47:38.006170Z"
    },
    "papermill": {
     "duration": 0.057965,
     "end_time": "2022-02-18T05:50:15.013461",
     "exception": false,
     "start_time": "2022-02-18T05:50:14.955496",
     "status": "completed"
    },
    "tags": []
   },
   "outputs": [],
   "source": [
    "test_img = img.shape"
   ]
  },
  {
   "cell_type": "code",
   "execution_count": 36,
   "id": "cec99889",
   "metadata": {
    "execution": {
     "iopub.execute_input": "2022-02-18T05:50:15.120339Z",
     "iopub.status.busy": "2022-02-18T05:50:15.119707Z",
     "iopub.status.idle": "2022-02-18T05:50:15.148344Z",
     "shell.execute_reply": "2022-02-18T05:50:15.148861Z",
     "shell.execute_reply.started": "2022-02-18T05:47:38.024950Z"
    },
    "papermill": {
     "duration": 0.083973,
     "end_time": "2022-02-18T05:50:15.149026",
     "exception": false,
     "start_time": "2022-02-18T05:50:15.065053",
     "status": "completed"
    },
    "tags": []
   },
   "outputs": [
    {
     "data": {
      "text/plain": [
       "(48, 48)"
      ]
     },
     "execution_count": 36,
     "metadata": {},
     "output_type": "execute_result"
    }
   ],
   "source": [
    "test_img = cv2.resize(test_img, (48,48))\n",
    "test_img.shape"
   ]
  },
  {
   "cell_type": "code",
   "execution_count": 37,
   "id": "4d0ad57e",
   "metadata": {
    "execution": {
     "iopub.execute_input": "2022-02-18T05:50:15.259940Z",
     "iopub.status.busy": "2022-02-18T05:50:15.258204Z",
     "iopub.status.idle": "2022-02-18T05:50:15.262927Z",
     "shell.execute_reply": "2022-02-18T05:50:15.262365Z",
     "shell.execute_reply.started": "2022-02-18T05:47:38.077568Z"
    },
    "papermill": {
     "duration": 0.06065,
     "end_time": "2022-02-18T05:50:15.263085",
     "exception": false,
     "start_time": "2022-02-18T05:50:15.202435",
     "status": "completed"
    },
    "tags": []
   },
   "outputs": [],
   "source": [
    "test_img = test_img.reshape(1,48,48,1)"
   ]
  },
  {
   "cell_type": "code",
   "execution_count": 38,
   "id": "cc208636",
   "metadata": {
    "execution": {
     "iopub.execute_input": "2022-02-18T05:50:15.373824Z",
     "iopub.status.busy": "2022-02-18T05:50:15.373142Z",
     "iopub.status.idle": "2022-02-18T05:50:15.814618Z",
     "shell.execute_reply": "2022-02-18T05:50:15.814063Z",
     "shell.execute_reply.started": "2022-02-18T05:47:38.084996Z"
    },
    "papermill": {
     "duration": 0.49853,
     "end_time": "2022-02-18T05:50:15.814763",
     "exception": false,
     "start_time": "2022-02-18T05:50:15.316233",
     "status": "completed"
    },
    "tags": []
   },
   "outputs": [
    {
     "name": "stderr",
     "output_type": "stream",
     "text": [
      "2022-02-18 05:50:15.442132: I tensorflow/compiler/mlir/mlir_graph_optimization_pass.cc:185] None of the MLIR Optimization Passes are enabled (registered 2)\n"
     ]
    },
    {
     "data": {
      "text/plain": [
       "array([[0.13269334, 0.15200348, 0.20803845, 0.12089442, 0.24912848,\n",
       "        0.13724193]], dtype=float32)"
      ]
     },
     "execution_count": 38,
     "metadata": {},
     "output_type": "execute_result"
    }
   ],
   "source": [
    "model.predict(test_img)"
   ]
  },
  {
   "cell_type": "code",
   "execution_count": 39,
   "id": "8e02db7c",
   "metadata": {
    "execution": {
     "iopub.execute_input": "2022-02-18T05:50:15.928039Z",
     "iopub.status.busy": "2022-02-18T05:50:15.927381Z",
     "iopub.status.idle": "2022-02-18T05:50:15.929845Z",
     "shell.execute_reply": "2022-02-18T05:50:15.930403Z",
     "shell.execute_reply.started": "2022-02-18T05:47:38.521217Z"
    },
    "papermill": {
     "duration": 0.062039,
     "end_time": "2022-02-18T05:50:15.930581",
     "exception": false,
     "start_time": "2022-02-18T05:50:15.868542",
     "status": "completed"
    },
    "tags": []
   },
   "outputs": [],
   "source": [
    "# label_map = ['Anger','Disgust','Fear','Happy','Neutral','Sad','Surprise']"
   ]
  }
 ],
 "metadata": {
  "kernelspec": {
   "display_name": "Python 3",
   "language": "python",
   "name": "python3"
  },
  "language_info": {
   "codemirror_mode": {
    "name": "ipython",
    "version": 3
   },
   "file_extension": ".py",
   "mimetype": "text/x-python",
   "name": "python",
   "nbconvert_exporter": "python",
   "pygments_lexer": "ipython3",
   "version": "3.7.12"
  },
  "papermill": {
   "default_parameters": {},
   "duration": 93.866417,
   "end_time": "2022-02-18T05:50:19.394088",
   "environment_variables": {},
   "exception": null,
   "input_path": "__notebook__.ipynb",
   "output_path": "__notebook__.ipynb",
   "parameters": {},
   "start_time": "2022-02-18T05:48:45.527671",
   "version": "2.3.3"
  }
 },
 "nbformat": 4,
 "nbformat_minor": 5
} 
