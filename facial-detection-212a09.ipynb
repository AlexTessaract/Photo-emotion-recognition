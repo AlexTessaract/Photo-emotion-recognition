{
 "cells": [
  {
   "cell_type": "code",
   "execution_count": 1,
   "metadata": {
    "_cell_guid": "b1076dfc-b9ad-4769-8c92-a6c4dae69d19",
    "_uuid": "8f2839f25d086af736a60e9eeb907d3b93b6e0e5",
    "execution": {
     "iopub.execute_input": "2022-02-15T05:30:21.142965Z",
     "iopub.status.busy": "2022-02-15T05:30:21.142201Z",
     "iopub.status.idle": "2022-02-15T05:30:21.438534Z",
     "shell.execute_reply": "2022-02-15T05:30:21.437860Z",
     "shell.execute_reply.started": "2022-02-15T05:27:56.972771Z"
    },
    "papermill": {
     "duration": 0.339061,
     "end_time": "2022-02-15T05:30:21.438653",
     "exception": false,
     "start_time": "2022-02-15T05:30:21.099592",
     "status": "completed"
    },
    "tags": []
   },
   "outputs": [],
   "source": [
    "\n",
    "import numpy as np \n",
    "import pandas as pd \n",
    "import cv2\n",
    "\n"
   ]
  },
  {
   "cell_type": "code",
   "execution_count": 2,
   "metadata": {
    "_cell_guid": "79c7e3d0-c299-4dcb-8224-4455121ee9b0",
    "_uuid": "d629ff2d2480ee46fbb7e2d37f6b5fab8052498a",
    "execution": {
     "iopub.execute_input": "2022-02-15T05:30:21.512872Z",
     "iopub.status.busy": "2022-02-15T05:30:21.512014Z",
     "iopub.status.idle": "2022-02-15T05:30:28.036979Z",
     "shell.execute_reply": "2022-02-15T05:30:28.037489Z",
     "shell.execute_reply.started": "2022-02-15T05:27:56.980259Z"
    },
    "papermill": {
     "duration": 6.563371,
     "end_time": "2022-02-15T05:30:28.037636",
     "exception": false,
     "start_time": "2022-02-15T05:30:21.474265",
     "status": "completed"
    },
    "tags": []
   },
   "outputs": [],
   "source": [
    "df = pd.read_csv('../input/facial-expression/fer2013.csv')"
   ]
  },
  {
   "cell_type": "code",
   "execution_count": 3,
   "metadata": {
    "execution": {
     "iopub.execute_input": "2022-02-15T05:30:28.112326Z",
     "iopub.status.busy": "2022-02-15T05:30:28.111431Z",
     "iopub.status.idle": "2022-02-15T05:30:28.134758Z",
     "shell.execute_reply": "2022-02-15T05:30:28.135239Z",
     "shell.execute_reply.started": "2022-02-15T05:28:03.651181Z"
    },
    "papermill": {
     "duration": 0.061944,
     "end_time": "2022-02-15T05:30:28.135377",
     "exception": false,
     "start_time": "2022-02-15T05:30:28.073433",
     "status": "completed"
    },
    "tags": []
   },
   "outputs": [
    {
     "data": {
      "text/html": [
       "<div>\n",
       "<style scoped>\n",
       "    .dataframe tbody tr th:only-of-type {\n",
       "        vertical-align: middle;\n",
       "    }\n",
       "\n",
       "    .dataframe tbody tr th {\n",
       "        vertical-align: top;\n",
       "    }\n",
       "\n",
       "    .dataframe thead th {\n",
       "        text-align: right;\n",
       "    }\n",
       "</style>\n",
       "<table border=\"1\" class=\"dataframe\">\n",
       "  <thead>\n",
       "    <tr style=\"text-align: right;\">\n",
       "      <th></th>\n",
       "      <th>emotion</th>\n",
       "      <th>pixels</th>\n",
       "      <th>Usage</th>\n",
       "    </tr>\n",
       "  </thead>\n",
       "  <tbody>\n",
       "    <tr>\n",
       "      <th>0</th>\n",
       "      <td>0</td>\n",
       "      <td>70 80 82 72 58 58 60 63 54 58 60 48 89 115 121...</td>\n",
       "      <td>Training</td>\n",
       "    </tr>\n",
       "    <tr>\n",
       "      <th>1</th>\n",
       "      <td>0</td>\n",
       "      <td>151 150 147 155 148 133 111 140 170 174 182 15...</td>\n",
       "      <td>Training</td>\n",
       "    </tr>\n",
       "    <tr>\n",
       "      <th>2</th>\n",
       "      <td>2</td>\n",
       "      <td>231 212 156 164 174 138 161 173 182 200 106 38...</td>\n",
       "      <td>Training</td>\n",
       "    </tr>\n",
       "    <tr>\n",
       "      <th>3</th>\n",
       "      <td>4</td>\n",
       "      <td>24 32 36 30 32 23 19 20 30 41 21 22 32 34 21 1...</td>\n",
       "      <td>Training</td>\n",
       "    </tr>\n",
       "    <tr>\n",
       "      <th>4</th>\n",
       "      <td>6</td>\n",
       "      <td>4 0 0 0 0 0 0 0 0 0 0 0 3 15 23 28 48 50 58 84...</td>\n",
       "      <td>Training</td>\n",
       "    </tr>\n",
       "  </tbody>\n",
       "</table>\n",
       "</div>"
      ],
      "text/plain": [
       "   emotion                                             pixels     Usage\n",
       "0        0  70 80 82 72 58 58 60 63 54 58 60 48 89 115 121...  Training\n",
       "1        0  151 150 147 155 148 133 111 140 170 174 182 15...  Training\n",
       "2        2  231 212 156 164 174 138 161 173 182 200 106 38...  Training\n",
       "3        4  24 32 36 30 32 23 19 20 30 41 21 22 32 34 21 1...  Training\n",
       "4        6  4 0 0 0 0 0 0 0 0 0 0 0 3 15 23 28 48 50 58 84...  Training"
      ]
     },
     "execution_count": 3,
     "metadata": {},
     "output_type": "execute_result"
    }
   ],
   "source": [
    "df.head()"
   ]
  },
  {
   "cell_type": "code",
   "execution_count": 4,
   "metadata": {
    "execution": {
     "iopub.execute_input": "2022-02-15T05:30:28.214342Z",
     "iopub.status.busy": "2022-02-15T05:30:28.213524Z",
     "iopub.status.idle": "2022-02-15T05:30:28.218343Z",
     "shell.execute_reply": "2022-02-15T05:30:28.217741Z",
     "shell.execute_reply.started": "2022-02-15T05:28:03.678978Z"
    },
    "papermill": {
     "duration": 0.047023,
     "end_time": "2022-02-15T05:30:28.218447",
     "exception": false,
     "start_time": "2022-02-15T05:30:28.171424",
     "status": "completed"
    },
    "tags": []
   },
   "outputs": [
    {
     "data": {
      "text/plain": [
       "2304"
      ]
     },
     "execution_count": 4,
     "metadata": {},
     "output_type": "execute_result"
    }
   ],
   "source": [
    "len(df.iloc[0]['pixels'].split())\n",
    "# 48 * 48"
   ]
  },
  {
   "cell_type": "code",
   "execution_count": 5,
   "metadata": {
    "execution": {
     "iopub.execute_input": "2022-02-15T05:30:28.293821Z",
     "iopub.status.busy": "2022-02-15T05:30:28.293291Z",
     "iopub.status.idle": "2022-02-15T05:30:28.297503Z",
     "shell.execute_reply": "2022-02-15T05:30:28.297037Z",
     "shell.execute_reply.started": "2022-02-15T05:28:03.692018Z"
    },
    "papermill": {
     "duration": 0.043679,
     "end_time": "2022-02-15T05:30:28.297592",
     "exception": false,
     "start_time": "2022-02-15T05:30:28.253913",
     "status": "completed"
    },
    "tags": []
   },
   "outputs": [],
   "source": [
    "label_map = ['Anger', 'Neutral', 'Fear', 'Happy', 'Sad', 'Surprise', 'Disgust']"
   ]
  },
  {
   "cell_type": "code",
   "execution_count": 6,
   "metadata": {
    "execution": {
     "iopub.execute_input": "2022-02-15T05:30:28.350184Z",
     "iopub.status.busy": "2022-02-15T05:30:28.349713Z",
     "iopub.status.idle": "2022-02-15T05:30:28.352388Z",
     "shell.execute_reply": "2022-02-15T05:30:28.351909Z",
     "shell.execute_reply.started": "2022-02-15T05:28:03.703039Z"
    },
    "papermill": {
     "duration": 0.031343,
     "end_time": "2022-02-15T05:30:28.352607",
     "exception": false,
     "start_time": "2022-02-15T05:30:28.321264",
     "status": "completed"
    },
    "tags": []
   },
   "outputs": [],
   "source": [
    "import matplotlib.pyplot as plt"
   ]
  },
  {
   "cell_type": "code",
   "execution_count": 7,
   "metadata": {
    "execution": {
     "iopub.execute_input": "2022-02-15T05:30:28.403397Z",
     "iopub.status.busy": "2022-02-15T05:30:28.402793Z",
     "iopub.status.idle": "2022-02-15T05:30:28.408651Z",
     "shell.execute_reply": "2022-02-15T05:30:28.408168Z",
     "shell.execute_reply.started": "2022-02-15T05:28:03.713447Z"
    },
    "papermill": {
     "duration": 0.032542,
     "end_time": "2022-02-15T05:30:28.409024",
     "exception": false,
     "start_time": "2022-02-15T05:30:28.376482",
     "status": "completed"
    },
    "tags": []
   },
   "outputs": [],
   "source": [
    "img = df.iloc[0]['pixels'].split()"
   ]
  },
  {
   "cell_type": "code",
   "execution_count": 8,
   "metadata": {
    "execution": {
     "iopub.execute_input": "2022-02-15T05:30:28.461193Z",
     "iopub.status.busy": "2022-02-15T05:30:28.460491Z",
     "iopub.status.idle": "2022-02-15T05:30:28.463701Z",
     "shell.execute_reply": "2022-02-15T05:30:28.464299Z",
     "shell.execute_reply.started": "2022-02-15T05:28:03.728478Z"
    },
    "papermill": {
     "duration": 0.031097,
     "end_time": "2022-02-15T05:30:28.464443",
     "exception": false,
     "start_time": "2022-02-15T05:30:28.433346",
     "status": "completed"
    },
    "tags": []
   },
   "outputs": [],
   "source": [
    "img = [int(i) for i in img]"
   ]
  },
  {
   "cell_type": "code",
   "execution_count": 9,
   "metadata": {
    "execution": {
     "iopub.execute_input": "2022-02-15T05:30:28.542926Z",
     "iopub.status.busy": "2022-02-15T05:30:28.542361Z",
     "iopub.status.idle": "2022-02-15T05:30:28.545799Z",
     "shell.execute_reply": "2022-02-15T05:30:28.545278Z",
     "shell.execute_reply.started": "2022-02-15T05:28:03.743408Z"
    },
    "papermill": {
     "duration": 0.045605,
     "end_time": "2022-02-15T05:30:28.545902",
     "exception": false,
     "start_time": "2022-02-15T05:30:28.500297",
     "status": "completed"
    },
    "tags": []
   },
   "outputs": [
    {
     "data": {
      "text/plain": [
       "int"
      ]
     },
     "execution_count": 9,
     "metadata": {},
     "output_type": "execute_result"
    }
   ],
   "source": [
    "type(img[0])"
   ]
  },
  {
   "cell_type": "code",
   "execution_count": 10,
   "metadata": {
    "execution": {
     "iopub.execute_input": "2022-02-15T05:30:28.600850Z",
     "iopub.status.busy": "2022-02-15T05:30:28.600002Z",
     "iopub.status.idle": "2022-02-15T05:30:28.605434Z",
     "shell.execute_reply": "2022-02-15T05:30:28.605902Z",
     "shell.execute_reply.started": "2022-02-15T05:28:03.759057Z"
    },
    "papermill": {
     "duration": 0.035472,
     "end_time": "2022-02-15T05:30:28.606043",
     "exception": false,
     "start_time": "2022-02-15T05:30:28.570571",
     "status": "completed"
    },
    "tags": []
   },
   "outputs": [
    {
     "data": {
      "text/plain": [
       "2304"
      ]
     },
     "execution_count": 10,
     "metadata": {},
     "output_type": "execute_result"
    }
   ],
   "source": [
    "len(img)"
   ]
  },
  {
   "cell_type": "code",
   "execution_count": 11,
   "metadata": {
    "execution": {
     "iopub.execute_input": "2022-02-15T05:30:28.657882Z",
     "iopub.status.busy": "2022-02-15T05:30:28.657347Z",
     "iopub.status.idle": "2022-02-15T05:30:28.661191Z",
     "shell.execute_reply": "2022-02-15T05:30:28.661551Z",
     "shell.execute_reply.started": "2022-02-15T05:28:03.773189Z"
    },
    "papermill": {
     "duration": 0.031182,
     "end_time": "2022-02-15T05:30:28.661683",
     "exception": false,
     "start_time": "2022-02-15T05:30:28.630501",
     "status": "completed"
    },
    "tags": []
   },
   "outputs": [],
   "source": [
    "img = np.array(img)"
   ]
  },
  {
   "cell_type": "code",
   "execution_count": 12,
   "metadata": {
    "execution": {
     "iopub.execute_input": "2022-02-15T05:30:28.712843Z",
     "iopub.status.busy": "2022-02-15T05:30:28.712352Z",
     "iopub.status.idle": "2022-02-15T05:30:28.717297Z",
     "shell.execute_reply": "2022-02-15T05:30:28.717731Z",
     "shell.execute_reply.started": "2022-02-15T05:28:03.787257Z"
    },
    "papermill": {
     "duration": 0.032,
     "end_time": "2022-02-15T05:30:28.717857",
     "exception": false,
     "start_time": "2022-02-15T05:30:28.685857",
     "status": "completed"
    },
    "tags": []
   },
   "outputs": [],
   "source": [
    "img = img.reshape(48,48)"
   ]
  },
  {
   "cell_type": "code",
   "execution_count": 13,
   "metadata": {
    "execution": {
     "iopub.execute_input": "2022-02-15T05:30:28.772712Z",
     "iopub.status.busy": "2022-02-15T05:30:28.771874Z",
     "iopub.status.idle": "2022-02-15T05:30:28.777011Z",
     "shell.execute_reply": "2022-02-15T05:30:28.776494Z",
     "shell.execute_reply.started": "2022-02-15T05:28:03.798113Z"
    },
    "papermill": {
     "duration": 0.034476,
     "end_time": "2022-02-15T05:30:28.777102",
     "exception": false,
     "start_time": "2022-02-15T05:30:28.742626",
     "status": "completed"
    },
    "tags": []
   },
   "outputs": [
    {
     "data": {
      "text/plain": [
       "(48, 48)"
      ]
     },
     "execution_count": 13,
     "metadata": {},
     "output_type": "execute_result"
    }
   ],
   "source": [
    "img.shape"
   ]
  },
  {
   "cell_type": "code",
   "execution_count": 14,
   "metadata": {
    "execution": {
     "iopub.execute_input": "2022-02-15T05:30:28.829383Z",
     "iopub.status.busy": "2022-02-15T05:30:28.828894Z",
     "iopub.status.idle": "2022-02-15T05:30:29.013423Z",
     "shell.execute_reply": "2022-02-15T05:30:29.013816Z",
     "shell.execute_reply.started": "2022-02-15T05:28:03.813951Z"
    },
    "papermill": {
     "duration": 0.211748,
     "end_time": "2022-02-15T05:30:29.013934",
     "exception": false,
     "start_time": "2022-02-15T05:30:28.802186",
     "status": "completed"
    },
    "tags": []
   },
   "outputs": [
    {
     "data": {
      "text/plain": [
       "Text(0.5, 0, '0')"
      ]
     },
     "execution_count": 14,
     "metadata": {},
     "output_type": "execute_result"
    },
    {
     "data": {
      "image/png": "[encoded data removed]",
      "text/plain": [
       "<Figure size 432x288 with 1 Axes>"
      ]
     },
     "metadata": {
      "needs_background": "light"
     },
     "output_type": "display_data"
    }
   ],
   "source": [
    "plt.imshow(img, cmap='gray')\n",
    "plt.xlabel(df.iloc[0]['emotion'])"
   ]
  },
  {
   "cell_type": "code",
   "execution_count": 15,
   "metadata": {
    "execution": {
     "iopub.execute_input": "2022-02-15T05:30:29.068470Z",
     "iopub.status.busy": "2022-02-15T05:30:29.067995Z",
     "iopub.status.idle": "2022-02-15T05:30:29.073962Z",
     "shell.execute_reply": "2022-02-15T05:30:29.073184Z",
     "shell.execute_reply.started": "2022-02-15T05:28:04.122202Z"
    },
    "papermill": {
     "duration": 0.034187,
     "end_time": "2022-02-15T05:30:29.074097",
     "exception": false,
     "start_time": "2022-02-15T05:30:29.039910",
     "status": "completed"
    },
    "tags": []
   },
   "outputs": [],
   "source": [
    "X = []\n",
    "y = []"
   ]
  },
  {
   "cell_type": "code",
   "execution_count": 16,
   "metadata": {
    "execution": {
     "iopub.execute_input": "2022-02-15T05:30:29.266613Z",
     "iopub.status.busy": "2022-02-15T05:30:29.245648Z",
     "iopub.status.idle": "2022-02-15T05:30:29.274828Z",
     "shell.execute_reply": "2022-02-15T05:30:29.274029Z",
     "shell.execute_reply.started": "2022-02-15T05:28:04.129250Z"
    },
    "papermill": {
     "duration": 0.161767,
     "end_time": "2022-02-15T05:30:29.274936",
     "exception": false,
     "start_time": "2022-02-15T05:30:29.113169",
     "status": "completed"
    },
    "tags": []
   },
   "outputs": [],
   "source": [
    "def getData(path):\n",
    "    anger = 0\n",
    "    fear = 0\n",
    "    sad = 0\n",
    "    happy = 0\n",
    "    surprise = 0\n",
    "    neutral = 0\n",
    "    disgust = 0\n",
    "    df = pd.read_csv(path)\n",
    "    \n",
    "    X = []\n",
    "    y = []    \n",
    "    \n",
    "    for i in range(len(df)):\n",
    "        if df.iloc[i]['emotion'] != 1:\n",
    "            if df.iloc[i]['emotion'] == 0:\n",
    "                if anger <= 4000:            \n",
    "                    y.append(df.iloc[i]['emotion'])\n",
    "                    im = df.iloc[i]['pixels']\n",
    "                    im = [int(x) for x in im.split()]\n",
    "                    X.append(im)\n",
    "                    anger += 1\n",
    "                else:\n",
    "                    pass\n",
    "                \n",
    "            if df.iloc[i]['emotion'] == 2:\n",
    "                if fear <= 4000:            \n",
    "                    y.append(df.iloc[i]['emotion'])\n",
    "                    im = df.iloc[i]['pixels']\n",
    "                    im = [int(x) for x in im.split()]\n",
    "                    X.append(im)\n",
    "                    fear += 1\n",
    "                else:\n",
    "                    pass\n",
    "                \n",
    "            if df.iloc[i]['emotion'] == 3:\n",
    "                if happy <= 4000:            \n",
    "                    y.append(df.iloc[i]['emotion'])\n",
    "                    im = df.iloc[i]['pixels']\n",
    "                    im = [int(x) for x in im.split()]\n",
    "                    X.append(im)\n",
    "                    happy += 1\n",
    "                else:\n",
    "                    pass\n",
    "                \n",
    "            if df.iloc[i]['emotion'] == 4:\n",
    "                if sad <= 4000:            \n",
    "                    y.append(df.iloc[i]['emotion'])\n",
    "                    im = df.iloc[i]['pixels']\n",
    "                    im = [int(x) for x in im.split()]\n",
    "                    X.append(im)\n",
    "                    sad += 1\n",
    "                else:\n",
    "                    pass\n",
    "                \n",
    "            if df.iloc[i]['emotion'] == 5:\n",
    "                if surprise <= 4000:            \n",
    "                    y.append(df.iloc[i]['emotion'])\n",
    "                    im = df.iloc[i]['pixels']\n",
    "                    im = [int(x) for x in im.split()]\n",
    "                    X.append(im)\n",
    "                    surprise += 1\n",
    "                else:\n",
    "                    pass\n",
    "                \n",
    "            if df.iloc[i]['emotion'] == 6:\n",
    "                if neutral <= 4000:            \n",
    "                    y.append(df.iloc[i]['emotion'])\n",
    "                    im = df.iloc[i]['pixels']\n",
    "                    im = [int(x) for x in im.split()]\n",
    "                    X.append(im)\n",
    "                    neutral += 1\n",
    "                else:\n",
    "                    pass\n",
    "            \n",
    "            if df.iloc[i]['emotion']==7:\n",
    "                if disgust <= 4000:\n",
    "                    y.append(df.iloc[i]['emotion'])\n",
    "                    im = df.iloc[i]['pixels']\n",
    "                    im = [int(x) for x in im.split()]\n",
    "                    X.append(im)\n",
    "                    disgust += 1\n",
    "                else:\n",
    "                    pass\n",
    "            \n",
    "            \n",
    "\n",
    "            \n",
    "            \n",
    "    return X, y  \n",
    "    "
   ]
  },
  {
   "cell_type": "code",
   "execution_count": 17,
   "metadata": {
    "execution": {
     "iopub.execute_input": "2022-02-15T05:30:29.358223Z",
     "iopub.status.busy": "2022-02-15T05:30:29.357479Z",
     "iopub.status.idle": "2022-02-15T05:31:48.695431Z",
     "shell.execute_reply": "2022-02-15T05:31:48.694738Z",
     "shell.execute_reply.started": "2022-02-15T05:28:04.160532Z"
    },
    "papermill": {
     "duration": 79.381928,
     "end_time": "2022-02-15T05:31:48.695538",
     "exception": false,
     "start_time": "2022-02-15T05:30:29.313610",
     "status": "completed"
    },
    "tags": []
   },
   "outputs": [],
   "source": [
    "X, y = getData('../input/facial-expression/fer2013.csv')"
   ]
  },
  {
   "cell_type": "code",
   "execution_count": 18,
   "metadata": {
    "execution": {
     "iopub.execute_input": "2022-02-15T05:31:48.781078Z",
     "iopub.status.busy": "2022-02-15T05:31:48.780233Z",
     "iopub.status.idle": "2022-02-15T05:31:48.787041Z",
     "shell.execute_reply": "2022-02-15T05:31:48.786477Z",
     "shell.execute_reply.started": "2022-02-15T05:29:24.137380Z"
    },
    "papermill": {
     "duration": 0.053044,
     "end_time": "2022-02-15T05:31:48.787149",
     "exception": false,
     "start_time": "2022-02-15T05:31:48.734105",
     "status": "completed"
    },
    "tags": []
   },
   "outputs": [
    {
     "data": {
      "text/plain": [
       "(array([0, 2, 3, 4, 5, 6]), array([4001, 4001, 4001, 4001, 4001, 4001]))"
      ]
     },
     "execution_count": 18,
     "metadata": {},
     "output_type": "execute_result"
    }
   ],
   "source": [
    "np.unique(y, return_counts=True)"
   ]
  },
  {
   "cell_type": "code",
   "execution_count": 19,
   "metadata": {
    "execution": {
     "iopub.execute_input": "2022-02-15T05:31:48.867489Z",
     "iopub.status.busy": "2022-02-15T05:31:48.866899Z",
     "iopub.status.idle": "2022-02-15T05:31:56.070463Z",
     "shell.execute_reply": "2022-02-15T05:31:56.069897Z",
     "shell.execute_reply.started": "2022-02-15T05:29:24.160544Z"
    },
    "papermill": {
     "duration": 7.24449,
     "end_time": "2022-02-15T05:31:56.070596",
     "exception": false,
     "start_time": "2022-02-15T05:31:48.826106",
     "status": "completed"
    },
    "tags": []
   },
   "outputs": [],
   "source": [
    "X = np.array(X)/255.0\n",
    "y = np.array(y)"
   ]
  },
  {
   "cell_type": "code",
   "execution_count": 20,
   "metadata": {
    "execution": {
     "iopub.execute_input": "2022-02-15T05:31:56.153284Z",
     "iopub.status.busy": "2022-02-15T05:31:56.152611Z",
     "iopub.status.idle": "2022-02-15T05:31:56.157222Z",
     "shell.execute_reply": "2022-02-15T05:31:56.157746Z",
     "shell.execute_reply.started": "2022-02-15T05:29:33.992382Z"
    },
    "papermill": {
     "duration": 0.048087,
     "end_time": "2022-02-15T05:31:56.157900",
     "exception": false,
     "start_time": "2022-02-15T05:31:56.109813",
     "status": "completed"
    },
    "tags": []
   },
   "outputs": [
    {
     "data": {
      "text/plain": [
       "((24006, 2304), (24006,))"
      ]
     },
     "execution_count": 20,
     "metadata": {},
     "output_type": "execute_result"
    }
   ],
   "source": [
    "X.shape, y.shape"
   ]
  },
  {
   "cell_type": "code",
   "execution_count": 21,
   "metadata": {
    "execution": {
     "iopub.execute_input": "2022-02-15T05:31:56.249863Z",
     "iopub.status.busy": "2022-02-15T05:31:56.244042Z",
     "iopub.status.idle": "2022-02-15T05:31:56.262646Z",
     "shell.execute_reply": "2022-02-15T05:31:56.263238Z",
     "shell.execute_reply.started": "2022-02-15T05:29:34.000937Z"
    },
    "papermill": {
     "duration": 0.066612,
     "end_time": "2022-02-15T05:31:56.263380",
     "exception": false,
     "start_time": "2022-02-15T05:31:56.196768",
     "status": "completed"
    },
    "tags": []
   },
   "outputs": [],
   "source": [
    "y_o = []\n",
    "for i in y:\n",
    "    if i != 7:\n",
    "        y_o.append(i)\n",
    "        \n",
    "    else:\n",
    "        y_o.append(1)"
   ]
  },
  {
   "cell_type": "code",
   "execution_count": 22,
   "metadata": {
    "execution": {
     "iopub.execute_input": "2022-02-15T05:31:56.344454Z",
     "iopub.status.busy": "2022-02-15T05:31:56.343847Z",
     "iopub.status.idle": "2022-02-15T05:31:56.353403Z",
     "shell.execute_reply": "2022-02-15T05:31:56.353899Z",
     "shell.execute_reply.started": "2022-02-15T05:29:34.033805Z"
    },
    "papermill": {
     "duration": 0.051821,
     "end_time": "2022-02-15T05:31:56.354023",
     "exception": false,
     "start_time": "2022-02-15T05:31:56.302202",
     "status": "completed"
    },
    "tags": []
   },
   "outputs": [
    {
     "data": {
      "text/plain": [
       "(array([0, 2, 3, 4, 5, 6]), array([4001, 4001, 4001, 4001, 4001, 4001]))"
      ]
     },
     "execution_count": 22,
     "metadata": {},
     "output_type": "execute_result"
    }
   ],
   "source": [
    "np.unique(y_o, return_counts=True)"
   ]
  },
  {
   "cell_type": "code",
   "execution_count": 23,
   "metadata": {
    "execution": {
     "iopub.execute_input": "2022-02-15T05:31:56.436654Z",
     "iopub.status.busy": "2022-02-15T05:31:56.436011Z",
     "iopub.status.idle": "2022-02-15T05:31:57.153503Z",
     "shell.execute_reply": "2022-02-15T05:31:57.152833Z",
     "shell.execute_reply.started": "2022-02-15T05:29:34.053233Z"
    },
    "papermill": {
     "duration": 0.760507,
     "end_time": "2022-02-15T05:31:57.153601",
     "exception": false,
     "start_time": "2022-02-15T05:31:56.393094",
     "status": "completed"
    },
    "tags": []
   },
   "outputs": [
    {
     "data": {
      "image/png": "[encoded data removed]",
      "text/plain": [
       "<Figure size 432x288 with 1 Axes>"
      ]
     },
     "metadata": {
      "needs_background": "light"
     },
     "output_type": "display_data"
    },
    {
     "data": {
      "image/png": "[encoded data removed]",
      "text/plain": [
       "<Figure size 432x288 with 1 Axes>"
      ]
     },
     "metadata": {
      "needs_background": "light"
     },
     "output_type": "display_data"
    },
    {
     "data": {
      "image/png": "[encoded data removed]",
      "text/plain": [
       "<Figure size 432x288 with 1 Axes>"
      ]
     },
     "metadata": {
      "needs_background": "light"
     },
     "output_type": "display_data"
    },
    {
     "data": {
      "image/png": "[encoded data removed]",
      "text/plain": [
       "<Figure size 432x288 with 1 Axes>"
      ]
     },
     "metadata": {
      "needs_background": "light"
     },
     "output_type": "display_data"
    },
    {
     "data": {
      "image/png": "[encoded data removed]",
      "text/plain": [
       "<Figure size 432x288 with 1 Axes>"
      ]
     },
     "metadata": {
      "needs_background": "light"
     },
     "output_type": "display_data"
    },
    {
     "data": {
      "image/png": "[encoded data removed]",
      "text/plain": [
       "<Figure size 432x288 with 1 Axes>"
      ]
     },
     "metadata": {
      "needs_background": "light"
     },
     "output_type": "display_data"
    }
   ],
   "source": [
    "for i in range(6):\n",
    "    r = np.random.randint((1), 24000, 1)[0]\n",
    "    plt.figure()\n",
    "    plt.imshow(X[r].reshape(48,48), cmap='gray')\n",
    "    plt.xlabel(label_map[y_o[r]])"
   ]
  },
  {
   "cell_type": "code",
   "execution_count": 24,
   "metadata": {
    "execution": {
     "iopub.execute_input": "2022-02-15T05:31:57.219571Z",
     "iopub.status.busy": "2022-02-15T05:31:57.218989Z",
     "iopub.status.idle": "2022-02-15T05:31:57.221871Z",
     "shell.execute_reply": "2022-02-15T05:31:57.221283Z",
     "shell.execute_reply.started": "2022-02-15T05:29:35.025182Z"
    },
    "papermill": {
     "duration": 0.037825,
     "end_time": "2022-02-15T05:31:57.221955",
     "exception": false,
     "start_time": "2022-02-15T05:31:57.184130",
     "status": "completed"
    },
    "tags": []
   },
   "outputs": [],
   "source": [
    "X = X.reshape(len(X), 48, 48, 1)"
   ]
  },
  {
   "cell_type": "code",
   "execution_count": 25,
   "metadata": {
    "execution": {
     "iopub.execute_input": "2022-02-15T05:31:57.283733Z",
     "iopub.status.busy": "2022-02-15T05:31:57.283236Z",
     "iopub.status.idle": "2022-02-15T05:31:57.286915Z",
     "shell.execute_reply": "2022-02-15T05:31:57.287340Z",
     "shell.execute_reply.started": "2022-02-15T05:29:35.031416Z"
    },
    "papermill": {
     "duration": 0.035707,
     "end_time": "2022-02-15T05:31:57.287464",
     "exception": false,
     "start_time": "2022-02-15T05:31:57.251757",
     "status": "completed"
    },
    "tags": []
   },
   "outputs": [],
   "source": [
    "# no_of_images, height, width, coloar_map"
   ]
  },
  {
   "cell_type": "code",
   "execution_count": 26,
   "metadata": {
    "execution": {
     "iopub.execute_input": "2022-02-15T05:31:57.350383Z",
     "iopub.status.busy": "2022-02-15T05:31:57.349767Z",
     "iopub.status.idle": "2022-02-15T05:31:57.354296Z",
     "shell.execute_reply": "2022-02-15T05:31:57.354979Z",
     "shell.execute_reply.started": "2022-02-15T05:29:35.044224Z"
    },
    "papermill": {
     "duration": 0.037822,
     "end_time": "2022-02-15T05:31:57.355117",
     "exception": false,
     "start_time": "2022-02-15T05:31:57.317295",
     "status": "completed"
    },
    "tags": []
   },
   "outputs": [
    {
     "data": {
      "text/plain": [
       "(24006, 48, 48, 1)"
      ]
     },
     "execution_count": 26,
     "metadata": {},
     "output_type": "execute_result"
    }
   ],
   "source": [
    "X.shape"
   ]
  },
  {
   "cell_type": "code",
   "execution_count": 27,
   "metadata": {
    "execution": {
     "iopub.execute_input": "2022-02-15T05:31:57.448867Z",
     "iopub.status.busy": "2022-02-15T05:31:57.448187Z",
     "iopub.status.idle": "2022-02-15T05:32:02.920493Z",
     "shell.execute_reply": "2022-02-15T05:32:02.918868Z",
     "shell.execute_reply.started": "2022-02-15T05:29:35.060139Z"
    },
    "papermill": {
     "duration": 5.520687,
     "end_time": "2022-02-15T05:32:02.920711",
     "exception": true,
     "start_time": "2022-02-15T05:31:57.400024",
     "status": "failed"
    },
    "tags": []
   },
   "outputs": [
    {
     "ename": "IndexError",
     "evalue": "index 6 is out of bounds for axis 1 with size 6",
     "output_type": "error",
     "traceback": [
      "\u001b[0;31m---------------------------------------------------------------------------\u001b[0m",
      "\u001b[0;31mIndexError\u001b[0m                                Traceback (most recent call last)",
      "\u001b[0;32m<ipython-input-27-2d4a42d8ef9d>\u001b[0m in \u001b[0;36m<module>\u001b[0;34m\u001b[0m\n\u001b[1;32m      1\u001b[0m \u001b[0;32mfrom\u001b[0m \u001b[0mkeras\u001b[0m\u001b[0;34m.\u001b[0m\u001b[0mutils\u001b[0m \u001b[0;32mimport\u001b[0m \u001b[0mto_categorical\u001b[0m\u001b[0;34m\u001b[0m\u001b[0;34m\u001b[0m\u001b[0m\n\u001b[0;32m----> 2\u001b[0;31m \u001b[0my_new\u001b[0m \u001b[0;34m=\u001b[0m \u001b[0mto_categorical\u001b[0m\u001b[0;34m(\u001b[0m\u001b[0my_o\u001b[0m\u001b[0;34m,\u001b[0m \u001b[0mnum_classes\u001b[0m\u001b[0;34m=\u001b[0m\u001b[0;36m6\u001b[0m\u001b[0;34m)\u001b[0m\u001b[0;34m\u001b[0m\u001b[0;34m\u001b[0m\u001b[0m\n\u001b[0m",
      "\u001b[0;32m/opt/conda/lib/python3.7/site-packages/tensorflow/python/keras/utils/np_utils.py\u001b[0m in \u001b[0;36mto_categorical\u001b[0;34m(y, num_classes, dtype)\u001b[0m\n\u001b[1;32m     76\u001b[0m   \u001b[0mn\u001b[0m \u001b[0;34m=\u001b[0m \u001b[0my\u001b[0m\u001b[0;34m.\u001b[0m\u001b[0mshape\u001b[0m\u001b[0;34m[\u001b[0m\u001b[0;36m0\u001b[0m\u001b[0;34m]\u001b[0m\u001b[0;34m\u001b[0m\u001b[0;34m\u001b[0m\u001b[0m\n\u001b[1;32m     77\u001b[0m   \u001b[0mcategorical\u001b[0m \u001b[0;34m=\u001b[0m \u001b[0mnp\u001b[0m\u001b[0;34m.\u001b[0m\u001b[0mzeros\u001b[0m\u001b[0;34m(\u001b[0m\u001b[0;34m(\u001b[0m\u001b[0mn\u001b[0m\u001b[0;34m,\u001b[0m \u001b[0mnum_classes\u001b[0m\u001b[0;34m)\u001b[0m\u001b[0;34m,\u001b[0m \u001b[0mdtype\u001b[0m\u001b[0;34m=\u001b[0m\u001b[0mdtype\u001b[0m\u001b[0;34m)\u001b[0m\u001b[0;34m\u001b[0m\u001b[0;34m\u001b[0m\u001b[0m\n\u001b[0;32m---> 78\u001b[0;31m   \u001b[0mcategorical\u001b[0m\u001b[0;34m[\u001b[0m\u001b[0mnp\u001b[0m\u001b[0;34m.\u001b[0m\u001b[0marange\u001b[0m\u001b[0;34m(\u001b[0m\u001b[0mn\u001b[0m\u001b[0;34m)\u001b[0m\u001b[0;34m,\u001b[0m \u001b[0my\u001b[0m\u001b[0;34m]\u001b[0m \u001b[0;34m=\u001b[0m \u001b[0;36m1\u001b[0m\u001b[0;34m\u001b[0m\u001b[0;34m\u001b[0m\u001b[0m\n\u001b[0m\u001b[1;32m     79\u001b[0m   \u001b[0moutput_shape\u001b[0m \u001b[0;34m=\u001b[0m \u001b[0minput_shape\u001b[0m \u001b[0;34m+\u001b[0m \u001b[0;34m(\u001b[0m\u001b[0mnum_classes\u001b[0m\u001b[0;34m,\u001b[0m\u001b[0;34m)\u001b[0m\u001b[0;34m\u001b[0m\u001b[0;34m\u001b[0m\u001b[0m\n\u001b[1;32m     80\u001b[0m   \u001b[0mcategorical\u001b[0m \u001b[0;34m=\u001b[0m \u001b[0mnp\u001b[0m\u001b[0;34m.\u001b[0m\u001b[0mreshape\u001b[0m\u001b[0;34m(\u001b[0m\u001b[0mcategorical\u001b[0m\u001b[0;34m,\u001b[0m \u001b[0moutput_shape\u001b[0m\u001b[0;34m)\u001b[0m\u001b[0;34m\u001b[0m\u001b[0;34m\u001b[0m\u001b[0m\n",
      "\u001b[0;31mIndexError\u001b[0m: index 6 is out of bounds for axis 1 with size 6"
     ]
    }
   ],
   "source": [
    "from keras.utils import to_categorical\n",
    "y_new = to_categorical(y_o, num_classes=6)"
   ]
  },
  {
   "cell_type": "code",
   "execution_count": null,
   "metadata": {
    "execution": {
     "iopub.status.busy": "2022-02-15T05:29:41.461170Z",
     "iopub.status.idle": "2022-02-15T05:29:41.462237Z"
    },
    "papermill": {
     "duration": null,
     "end_time": null,
     "exception": null,
     "start_time": null,
     "status": "pending"
    },
    "tags": []
   },
   "outputs": [],
   "source": [
    "len(y_o), y_new.shape"
   ]
  },
  {
   "cell_type": "code",
   "execution_count": null,
   "metadata": {
    "execution": {
     "iopub.status.busy": "2022-02-15T05:29:41.464107Z",
     "iopub.status.idle": "2022-02-15T05:29:41.465274Z"
    },
    "papermill": {
     "duration": null,
     "end_time": null,
     "exception": null,
     "start_time": null,
     "status": "pending"
    },
    "tags": []
   },
   "outputs": [],
   "source": [
    "y_o[150], y_new[150]"
   ]
  },
  {
   "cell_type": "code",
   "execution_count": null,
   "metadata": {
    "execution": {
     "iopub.status.busy": "2022-02-15T05:29:41.467127Z",
     "iopub.status.idle": "2022-02-15T05:29:41.468081Z"
    },
    "papermill": {
     "duration": null,
     "end_time": null,
     "exception": null,
     "start_time": null,
     "status": "pending"
    },
    "tags": []
   },
   "outputs": [],
   "source": [
    "from keras.models import Sequential\n",
    "from keras.layers import Dense , Activation , Dropout ,Flatten\n",
    "from keras.layers.convolutional import Conv2D\n",
    "from keras.layers.convolutional import MaxPooling2D\n",
    "from keras.metrics import categorical_accuracy\n",
    "from keras.models import model_from_json\n",
    "from keras.callbacks import ModelCheckpoint\n",
    "from keras.optimizers import *\n",
    "from keras.layers.normalization import BatchNormalization"
   ]
  },
  {
   "cell_type": "code",
   "execution_count": null,
   "metadata": {
    "execution": {
     "iopub.status.busy": "2022-02-15T05:29:41.469630Z",
     "iopub.status.idle": "2022-02-15T05:29:41.470197Z"
    },
    "papermill": {
     "duration": null,
     "end_time": null,
     "exception": null,
     "start_time": null,
     "status": "pending"
    },
    "tags": []
   },
   "outputs": [],
   "source": [
    "model = Sequential()\n",
    "\n",
    "\n",
    "input_shape = (48,48,1)\n",
    "\n",
    "\n",
    "model.add(Conv2D(64, (5, 5), input_shape=input_shape,activation='relu', padding='same'))\n",
    "model.add(Conv2D(64, (5, 5), padding='same'))\n",
    "model.add(BatchNormalization())\n",
    "model.add(Activation('relu'))\n",
    "model.add(MaxPooling2D(pool_size=(2, 2)))\n",
    "\n",
    "\n",
    "model.add(Conv2D(128, (5, 5),activation='relu',padding='same'))\n",
    "model.add(Conv2D(128, (5, 5),padding='same'))\n",
    "model.add(BatchNormalization())\n",
    "model.add(Activation('relu'))\n",
    "model.add(MaxPooling2D(pool_size=(2, 2)))\n",
    "\n",
    "model.add(Conv2D(256, (3, 3),activation='relu',padding='same'))\n",
    "model.add(Conv2D(256, (3, 3),activation='relu',padding='same'))\n",
    "model.add(BatchNormalization())\n",
    "model.add(MaxPooling2D(pool_size=(2, 2)))\n",
    "\n",
    "## (15, 15) --->  30\n",
    "model.add(Flatten())\n",
    "model.add(Dense(6, activation='softmax'))\n",
    "\n",
    "model.compile(loss='categorical_crossentropy', metrics=['accuracy'],optimizer='adam')"
   ]
  },
  {
   "cell_type": "code",
   "execution_count": null,
   "metadata": {
    "execution": {
     "iopub.status.busy": "2022-02-15T05:29:41.471411Z",
     "iopub.status.idle": "2022-02-15T05:29:41.471922Z"
    },
    "papermill": {
     "duration": null,
     "end_time": null,
     "exception": null,
     "start_time": null,
     "status": "pending"
    },
    "tags": []
   },
   "outputs": [],
   "source": [
    "model.fit(X, y_new, epochs=22, batch_size=64, shuffle=True, validation_split=0.2)"
   ]
  },
  {
   "cell_type": "code",
   "execution_count": null,
   "metadata": {
    "execution": {
     "iopub.status.busy": "2022-02-15T05:29:41.473334Z",
     "iopub.status.idle": "2022-02-15T05:29:41.473847Z"
    },
    "papermill": {
     "duration": null,
     "end_time": null,
     "exception": null,
     "start_time": null,
     "status": "pending"
    },
    "tags": []
   },
   "outputs": [],
   "source": [
    "model.save('model.h5')"
   ]
  },
  {
   "cell_type": "code",
   "execution_count": null,
   "metadata": {
    "execution": {
     "iopub.status.busy": "2022-02-15T05:29:41.474931Z",
     "iopub.status.idle": "2022-02-15T05:29:41.475476Z"
    },
    "papermill": {
     "duration": null,
     "end_time": null,
     "exception": null,
     "start_time": null,
     "status": "pending"
    },
    "tags": []
   },
   "outputs": [],
   "source": [
    "import cv2"
   ]
  },
  {
   "cell_type": "code",
   "execution_count": null,
   "metadata": {
    "execution": {
     "iopub.status.busy": "2022-02-15T05:29:41.476711Z",
     "iopub.status.idle": "2022-02-15T05:29:41.477266Z"
    },
    "papermill": {
     "duration": null,
     "end_time": null,
     "exception": null,
     "start_time": null,
     "status": "pending"
    },
    "tags": []
   },
   "outputs": [],
   "source": [
    "test_img = cv2.imread('../input/happy-img-test/pexels-andrea-piacquadio-941693.jpg', 0)"
   ]
  },
  {
   "cell_type": "code",
   "execution_count": null,
   "metadata": {
    "execution": {
     "iopub.status.busy": "2022-02-15T05:29:41.478541Z",
     "iopub.status.idle": "2022-02-15T05:29:41.479067Z"
    },
    "papermill": {
     "duration": null,
     "end_time": null,
     "exception": null,
     "start_time": null,
     "status": "pending"
    },
    "tags": []
   },
   "outputs": [],
   "source": [
    "test_img.shape"
   ]
  },
  {
   "cell_type": "code",
   "execution_count": null,
   "metadata": {
    "execution": {
     "iopub.status.busy": "2022-02-15T05:29:41.480097Z",
     "iopub.status.idle": "2022-02-15T05:29:41.480600Z"
    },
    "papermill": {
     "duration": null,
     "end_time": null,
     "exception": null,
     "start_time": null,
     "status": "pending"
    },
    "tags": []
   },
   "outputs": [],
   "source": [
    "test_img = cv2.resize(test_img, (48,48))\n",
    "test_img.shape"
   ]
  },
  {
   "cell_type": "code",
   "execution_count": null,
   "metadata": {
    "execution": {
     "iopub.status.busy": "2022-02-15T05:29:41.481814Z",
     "iopub.status.idle": "2022-02-15T05:29:41.482340Z"
    },
    "papermill": {
     "duration": null,
     "end_time": null,
     "exception": null,
     "start_time": null,
     "status": "pending"
    },
    "tags": []
   },
   "outputs": [],
   "source": [
    "test_img = test_img.reshape(1,48,48,1)"
   ]
  },
  {
   "cell_type": "code",
   "execution_count": null,
   "metadata": {
    "execution": {
     "iopub.status.busy": "2022-02-15T05:29:41.483482Z",
     "iopub.status.idle": "2022-02-15T05:29:41.483985Z"
    },
    "papermill": {
     "duration": null,
     "end_time": null,
     "exception": null,
     "start_time": null,
     "status": "pending"
    },
    "tags": []
   },
   "outputs": [],
   "source": [
    "model.predict(test_img)"
   ]
  },
  {
   "cell_type": "code",
   "execution_count": null,
   "metadata": {
    "execution": {
     "iopub.status.busy": "2022-02-15T05:29:41.485188Z",
     "iopub.status.idle": "2022-02-15T05:29:41.485696Z"
    },
    "papermill": {
     "duration": null,
     "end_time": null,
     "exception": null,
     "start_time": null,
     "status": "pending"
    },
    "tags": []
   },
   "outputs": [],
   "source": [
    "# label_map = ['Anger', 'Neutral', 'Fear', 'Happy', 'Sad', 'Surprise', 'Disgust']"
   ]
  }
 ],
 "metadata": {
  "kernelspec": {
   "display_name": "Python 3",
   "language": "python",
   "name": "python3"
  },
  "language_info": {
   "codemirror_mode": {
    "name": "ipython",
    "version": 3
   },
   "file_extension": ".py",
   "mimetype": "text/x-python",
   "name": "python",
   "nbconvert_exporter": "python",
   "pygments_lexer": "ipython3",
   "version": "3.7.6"
  },
  "papermill": {
   "duration": 106.65362,
   "end_time": "2022-02-15T05:32:03.139528",
   "environment_variables": {},
   "exception": true,
   "input_path": "__notebook__.ipynb",
   "output_path": "__notebook__.ipynb",
   "parameters": {},
   "start_time": "2022-02-15T05:30:16.485908",
   "version": "2.1.0"
  }
 },
 "nbformat": 4,
 "nbformat_minor": 4
}
